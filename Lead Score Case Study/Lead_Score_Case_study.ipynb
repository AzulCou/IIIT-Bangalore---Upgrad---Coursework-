{
  "nbformat": 4,
  "nbformat_minor": 0,
  "metadata": {
    "colab": {
      "name": "Lead_Score_Case_Venktesh.ipynb",
      "version": "0.3.2",
      "provenance": []
    },
    "language_info": {
      "codemirror_mode": {
        "name": "ipython",
        "version": 3
      },
      "file_extension": ".py",
      "mimetype": "text/x-python",
      "name": "python",
      "nbconvert_exporter": "python",
      "pygments_lexer": "ipython3",
      "version": "3.6.3"
    },
    "kernelspec": {
      "display_name": "Python 3",
      "language": "python",
      "name": "python3"
    }
  },
  "cells": [
    {
      "cell_type": "code",
      "metadata": {
        "id": "ds_Yd-y-Ta17",
        "colab_type": "code",
        "colab": {}
      },
      "source": [
        "import warnings\n",
        "warnings.filterwarnings('ignore')\n",
        "\n",
        "import numpy as np\n",
        "import pandas as pd\n",
        "import matplotlib.pyplot as plt\n",
        "%matplotlib inline\n",
        "import seaborn as sns"
      ],
      "execution_count": 0,
      "outputs": []
    },
    {
      "cell_type": "code",
      "metadata": {
        "id": "aKs2VRTJTa2I",
        "colab_type": "code",
        "outputId": "3074d7f3-d1bf-4afa-c254-5704c556ff97",
        "colab": {}
      },
      "source": [
        "lead = pd.read_csv(\"Leads.csv\")\n",
        "lead.info()"
      ],
      "execution_count": 0,
      "outputs": [
        {
          "output_type": "stream",
          "text": [
            "<class 'pandas.core.frame.DataFrame'>\n",
            "RangeIndex: 9240 entries, 0 to 9239\n",
            "Data columns (total 37 columns):\n",
            "Prospect ID                                      9240 non-null object\n",
            "Lead Number                                      9240 non-null int64\n",
            "Lead Origin                                      9240 non-null object\n",
            "Lead Source                                      9204 non-null object\n",
            "Do Not Email                                     9240 non-null object\n",
            "Do Not Call                                      9240 non-null object\n",
            "Converted                                        9240 non-null int64\n",
            "TotalVisits                                      9103 non-null float64\n",
            "Total Time Spent on Website                      9240 non-null int64\n",
            "Page Views Per Visit                             9103 non-null float64\n",
            "Last Activity                                    9137 non-null object\n",
            "Country                                          6779 non-null object\n",
            "Specialization                                   7802 non-null object\n",
            "How did you hear about X Education               7033 non-null object\n",
            "What is your current occupation                  6550 non-null object\n",
            "What matters most to you in choosing a course    6531 non-null object\n",
            "Search                                           9240 non-null object\n",
            "Magazine                                         9240 non-null object\n",
            "Newspaper Article                                9240 non-null object\n",
            "X Education Forums                               9240 non-null object\n",
            "Newspaper                                        9240 non-null object\n",
            "Digital Advertisement                            9240 non-null object\n",
            "Through Recommendations                          9240 non-null object\n",
            "Receive More Updates About Our Courses           9240 non-null object\n",
            "Tags                                             5887 non-null object\n",
            "Lead Quality                                     4473 non-null object\n",
            "Update me on Supply Chain Content                9240 non-null object\n",
            "Get updates on DM Content                        9240 non-null object\n",
            "Lead Profile                                     6531 non-null object\n",
            "City                                             7820 non-null object\n",
            "Asymmetrique Activity Index                      5022 non-null object\n",
            "Asymmetrique Profile Index                       5022 non-null object\n",
            "Asymmetrique Activity Score                      5022 non-null float64\n",
            "Asymmetrique Profile Score                       5022 non-null float64\n",
            "I agree to pay the amount through cheque         9240 non-null object\n",
            "A free copy of Mastering The Interview           9240 non-null object\n",
            "Last Notable Activity                            9240 non-null object\n",
            "dtypes: float64(4), int64(3), object(30)\n",
            "memory usage: 2.6+ MB\n"
          ],
          "name": "stdout"
        }
      ]
    },
    {
      "cell_type": "code",
      "metadata": {
        "id": "8AwoDW46Ta2T",
        "colab_type": "code",
        "outputId": "e3e3b29a-f93e-46d7-ff11-c78a3ad9434d",
        "colab": {}
      },
      "source": [
        "lead.head()"
      ],
      "execution_count": 0,
      "outputs": [
        {
          "output_type": "execute_result",
          "data": {
            "text/html": [
              "<div>\n",
              "<style scoped>\n",
              "    .dataframe tbody tr th:only-of-type {\n",
              "        vertical-align: middle;\n",
              "    }\n",
              "\n",
              "    .dataframe tbody tr th {\n",
              "        vertical-align: top;\n",
              "    }\n",
              "\n",
              "    .dataframe thead th {\n",
              "        text-align: right;\n",
              "    }\n",
              "</style>\n",
              "<table border=\"1\" class=\"dataframe\">\n",
              "  <thead>\n",
              "    <tr style=\"text-align: right;\">\n",
              "      <th></th>\n",
              "      <th>Prospect ID</th>\n",
              "      <th>Lead Number</th>\n",
              "      <th>Lead Origin</th>\n",
              "      <th>Lead Source</th>\n",
              "      <th>Do Not Email</th>\n",
              "      <th>Do Not Call</th>\n",
              "      <th>Converted</th>\n",
              "      <th>TotalVisits</th>\n",
              "      <th>Total Time Spent on Website</th>\n",
              "      <th>Page Views Per Visit</th>\n",
              "      <th>...</th>\n",
              "      <th>Get updates on DM Content</th>\n",
              "      <th>Lead Profile</th>\n",
              "      <th>City</th>\n",
              "      <th>Asymmetrique Activity Index</th>\n",
              "      <th>Asymmetrique Profile Index</th>\n",
              "      <th>Asymmetrique Activity Score</th>\n",
              "      <th>Asymmetrique Profile Score</th>\n",
              "      <th>I agree to pay the amount through cheque</th>\n",
              "      <th>A free copy of Mastering The Interview</th>\n",
              "      <th>Last Notable Activity</th>\n",
              "    </tr>\n",
              "  </thead>\n",
              "  <tbody>\n",
              "    <tr>\n",
              "      <th>0</th>\n",
              "      <td>7927b2df-8bba-4d29-b9a2-b6e0beafe620</td>\n",
              "      <td>660737</td>\n",
              "      <td>API</td>\n",
              "      <td>Olark Chat</td>\n",
              "      <td>No</td>\n",
              "      <td>No</td>\n",
              "      <td>0</td>\n",
              "      <td>0.0</td>\n",
              "      <td>0</td>\n",
              "      <td>0.0</td>\n",
              "      <td>...</td>\n",
              "      <td>No</td>\n",
              "      <td>Select</td>\n",
              "      <td>Select</td>\n",
              "      <td>02.Medium</td>\n",
              "      <td>02.Medium</td>\n",
              "      <td>15.0</td>\n",
              "      <td>15.0</td>\n",
              "      <td>No</td>\n",
              "      <td>No</td>\n",
              "      <td>Modified</td>\n",
              "    </tr>\n",
              "    <tr>\n",
              "      <th>1</th>\n",
              "      <td>2a272436-5132-4136-86fa-dcc88c88f482</td>\n",
              "      <td>660728</td>\n",
              "      <td>API</td>\n",
              "      <td>Organic Search</td>\n",
              "      <td>No</td>\n",
              "      <td>No</td>\n",
              "      <td>0</td>\n",
              "      <td>5.0</td>\n",
              "      <td>674</td>\n",
              "      <td>2.5</td>\n",
              "      <td>...</td>\n",
              "      <td>No</td>\n",
              "      <td>Select</td>\n",
              "      <td>Select</td>\n",
              "      <td>02.Medium</td>\n",
              "      <td>02.Medium</td>\n",
              "      <td>15.0</td>\n",
              "      <td>15.0</td>\n",
              "      <td>No</td>\n",
              "      <td>No</td>\n",
              "      <td>Email Opened</td>\n",
              "    </tr>\n",
              "    <tr>\n",
              "      <th>2</th>\n",
              "      <td>8cc8c611-a219-4f35-ad23-fdfd2656bd8a</td>\n",
              "      <td>660727</td>\n",
              "      <td>Landing Page Submission</td>\n",
              "      <td>Direct Traffic</td>\n",
              "      <td>No</td>\n",
              "      <td>No</td>\n",
              "      <td>1</td>\n",
              "      <td>2.0</td>\n",
              "      <td>1532</td>\n",
              "      <td>2.0</td>\n",
              "      <td>...</td>\n",
              "      <td>No</td>\n",
              "      <td>Potential Lead</td>\n",
              "      <td>Mumbai</td>\n",
              "      <td>02.Medium</td>\n",
              "      <td>01.High</td>\n",
              "      <td>14.0</td>\n",
              "      <td>20.0</td>\n",
              "      <td>No</td>\n",
              "      <td>Yes</td>\n",
              "      <td>Email Opened</td>\n",
              "    </tr>\n",
              "    <tr>\n",
              "      <th>3</th>\n",
              "      <td>0cc2df48-7cf4-4e39-9de9-19797f9b38cc</td>\n",
              "      <td>660719</td>\n",
              "      <td>Landing Page Submission</td>\n",
              "      <td>Direct Traffic</td>\n",
              "      <td>No</td>\n",
              "      <td>No</td>\n",
              "      <td>0</td>\n",
              "      <td>1.0</td>\n",
              "      <td>305</td>\n",
              "      <td>1.0</td>\n",
              "      <td>...</td>\n",
              "      <td>No</td>\n",
              "      <td>Select</td>\n",
              "      <td>Mumbai</td>\n",
              "      <td>02.Medium</td>\n",
              "      <td>01.High</td>\n",
              "      <td>13.0</td>\n",
              "      <td>17.0</td>\n",
              "      <td>No</td>\n",
              "      <td>No</td>\n",
              "      <td>Modified</td>\n",
              "    </tr>\n",
              "    <tr>\n",
              "      <th>4</th>\n",
              "      <td>3256f628-e534-4826-9d63-4a8b88782852</td>\n",
              "      <td>660681</td>\n",
              "      <td>Landing Page Submission</td>\n",
              "      <td>Google</td>\n",
              "      <td>No</td>\n",
              "      <td>No</td>\n",
              "      <td>1</td>\n",
              "      <td>2.0</td>\n",
              "      <td>1428</td>\n",
              "      <td>1.0</td>\n",
              "      <td>...</td>\n",
              "      <td>No</td>\n",
              "      <td>Select</td>\n",
              "      <td>Mumbai</td>\n",
              "      <td>02.Medium</td>\n",
              "      <td>01.High</td>\n",
              "      <td>15.0</td>\n",
              "      <td>18.0</td>\n",
              "      <td>No</td>\n",
              "      <td>No</td>\n",
              "      <td>Modified</td>\n",
              "    </tr>\n",
              "  </tbody>\n",
              "</table>\n",
              "<p>5 rows × 37 columns</p>\n",
              "</div>"
            ],
            "text/plain": [
              "                            Prospect ID  Lead Number              Lead Origin  \\\n",
              "0  7927b2df-8bba-4d29-b9a2-b6e0beafe620       660737                      API   \n",
              "1  2a272436-5132-4136-86fa-dcc88c88f482       660728                      API   \n",
              "2  8cc8c611-a219-4f35-ad23-fdfd2656bd8a       660727  Landing Page Submission   \n",
              "3  0cc2df48-7cf4-4e39-9de9-19797f9b38cc       660719  Landing Page Submission   \n",
              "4  3256f628-e534-4826-9d63-4a8b88782852       660681  Landing Page Submission   \n",
              "\n",
              "      Lead Source Do Not Email Do Not Call  Converted  TotalVisits  \\\n",
              "0      Olark Chat           No          No          0          0.0   \n",
              "1  Organic Search           No          No          0          5.0   \n",
              "2  Direct Traffic           No          No          1          2.0   \n",
              "3  Direct Traffic           No          No          0          1.0   \n",
              "4          Google           No          No          1          2.0   \n",
              "\n",
              "   Total Time Spent on Website  Page Views Per Visit          ...           \\\n",
              "0                            0                   0.0          ...            \n",
              "1                          674                   2.5          ...            \n",
              "2                         1532                   2.0          ...            \n",
              "3                          305                   1.0          ...            \n",
              "4                         1428                   1.0          ...            \n",
              "\n",
              "  Get updates on DM Content    Lead Profile    City  \\\n",
              "0                        No          Select  Select   \n",
              "1                        No          Select  Select   \n",
              "2                        No  Potential Lead  Mumbai   \n",
              "3                        No          Select  Mumbai   \n",
              "4                        No          Select  Mumbai   \n",
              "\n",
              "  Asymmetrique Activity Index Asymmetrique Profile Index  \\\n",
              "0                   02.Medium                  02.Medium   \n",
              "1                   02.Medium                  02.Medium   \n",
              "2                   02.Medium                    01.High   \n",
              "3                   02.Medium                    01.High   \n",
              "4                   02.Medium                    01.High   \n",
              "\n",
              "  Asymmetrique Activity Score Asymmetrique Profile Score  \\\n",
              "0                        15.0                       15.0   \n",
              "1                        15.0                       15.0   \n",
              "2                        14.0                       20.0   \n",
              "3                        13.0                       17.0   \n",
              "4                        15.0                       18.0   \n",
              "\n",
              "  I agree to pay the amount through cheque  \\\n",
              "0                                       No   \n",
              "1                                       No   \n",
              "2                                       No   \n",
              "3                                       No   \n",
              "4                                       No   \n",
              "\n",
              "  A free copy of Mastering The Interview Last Notable Activity  \n",
              "0                                     No              Modified  \n",
              "1                                     No          Email Opened  \n",
              "2                                    Yes          Email Opened  \n",
              "3                                     No              Modified  \n",
              "4                                     No              Modified  \n",
              "\n",
              "[5 rows x 37 columns]"
            ]
          },
          "metadata": {
            "tags": []
          },
          "execution_count": 3
        }
      ]
    },
    {
      "cell_type": "code",
      "metadata": {
        "id": "t0mOtxt0Ta2a",
        "colab_type": "code",
        "outputId": "31daa8c3-469c-47a8-a4fa-8dac25f7c51d",
        "colab": {}
      },
      "source": [
        "lead.describe()"
      ],
      "execution_count": 0,
      "outputs": [
        {
          "output_type": "execute_result",
          "data": {
            "text/html": [
              "<div>\n",
              "<style scoped>\n",
              "    .dataframe tbody tr th:only-of-type {\n",
              "        vertical-align: middle;\n",
              "    }\n",
              "\n",
              "    .dataframe tbody tr th {\n",
              "        vertical-align: top;\n",
              "    }\n",
              "\n",
              "    .dataframe thead th {\n",
              "        text-align: right;\n",
              "    }\n",
              "</style>\n",
              "<table border=\"1\" class=\"dataframe\">\n",
              "  <thead>\n",
              "    <tr style=\"text-align: right;\">\n",
              "      <th></th>\n",
              "      <th>Lead Number</th>\n",
              "      <th>Converted</th>\n",
              "      <th>TotalVisits</th>\n",
              "      <th>Total Time Spent on Website</th>\n",
              "      <th>Page Views Per Visit</th>\n",
              "      <th>Asymmetrique Activity Score</th>\n",
              "      <th>Asymmetrique Profile Score</th>\n",
              "    </tr>\n",
              "  </thead>\n",
              "  <tbody>\n",
              "    <tr>\n",
              "      <th>count</th>\n",
              "      <td>9240.000000</td>\n",
              "      <td>9240.000000</td>\n",
              "      <td>9103.000000</td>\n",
              "      <td>9240.000000</td>\n",
              "      <td>9103.000000</td>\n",
              "      <td>5022.000000</td>\n",
              "      <td>5022.000000</td>\n",
              "    </tr>\n",
              "    <tr>\n",
              "      <th>mean</th>\n",
              "      <td>617188.435606</td>\n",
              "      <td>0.385390</td>\n",
              "      <td>3.445238</td>\n",
              "      <td>487.698268</td>\n",
              "      <td>2.362820</td>\n",
              "      <td>14.306252</td>\n",
              "      <td>16.344883</td>\n",
              "    </tr>\n",
              "    <tr>\n",
              "      <th>std</th>\n",
              "      <td>23405.995698</td>\n",
              "      <td>0.486714</td>\n",
              "      <td>4.854853</td>\n",
              "      <td>548.021466</td>\n",
              "      <td>2.161418</td>\n",
              "      <td>1.386694</td>\n",
              "      <td>1.811395</td>\n",
              "    </tr>\n",
              "    <tr>\n",
              "      <th>min</th>\n",
              "      <td>579533.000000</td>\n",
              "      <td>0.000000</td>\n",
              "      <td>0.000000</td>\n",
              "      <td>0.000000</td>\n",
              "      <td>0.000000</td>\n",
              "      <td>7.000000</td>\n",
              "      <td>11.000000</td>\n",
              "    </tr>\n",
              "    <tr>\n",
              "      <th>25%</th>\n",
              "      <td>596484.500000</td>\n",
              "      <td>0.000000</td>\n",
              "      <td>1.000000</td>\n",
              "      <td>12.000000</td>\n",
              "      <td>1.000000</td>\n",
              "      <td>14.000000</td>\n",
              "      <td>15.000000</td>\n",
              "    </tr>\n",
              "    <tr>\n",
              "      <th>50%</th>\n",
              "      <td>615479.000000</td>\n",
              "      <td>0.000000</td>\n",
              "      <td>3.000000</td>\n",
              "      <td>248.000000</td>\n",
              "      <td>2.000000</td>\n",
              "      <td>14.000000</td>\n",
              "      <td>16.000000</td>\n",
              "    </tr>\n",
              "    <tr>\n",
              "      <th>75%</th>\n",
              "      <td>637387.250000</td>\n",
              "      <td>1.000000</td>\n",
              "      <td>5.000000</td>\n",
              "      <td>936.000000</td>\n",
              "      <td>3.000000</td>\n",
              "      <td>15.000000</td>\n",
              "      <td>18.000000</td>\n",
              "    </tr>\n",
              "    <tr>\n",
              "      <th>max</th>\n",
              "      <td>660737.000000</td>\n",
              "      <td>1.000000</td>\n",
              "      <td>251.000000</td>\n",
              "      <td>2272.000000</td>\n",
              "      <td>55.000000</td>\n",
              "      <td>18.000000</td>\n",
              "      <td>20.000000</td>\n",
              "    </tr>\n",
              "  </tbody>\n",
              "</table>\n",
              "</div>"
            ],
            "text/plain": [
              "         Lead Number    Converted  TotalVisits  Total Time Spent on Website  \\\n",
              "count    9240.000000  9240.000000  9103.000000                  9240.000000   \n",
              "mean   617188.435606     0.385390     3.445238                   487.698268   \n",
              "std     23405.995698     0.486714     4.854853                   548.021466   \n",
              "min    579533.000000     0.000000     0.000000                     0.000000   \n",
              "25%    596484.500000     0.000000     1.000000                    12.000000   \n",
              "50%    615479.000000     0.000000     3.000000                   248.000000   \n",
              "75%    637387.250000     1.000000     5.000000                   936.000000   \n",
              "max    660737.000000     1.000000   251.000000                  2272.000000   \n",
              "\n",
              "       Page Views Per Visit  Asymmetrique Activity Score  \\\n",
              "count           9103.000000                  5022.000000   \n",
              "mean               2.362820                    14.306252   \n",
              "std                2.161418                     1.386694   \n",
              "min                0.000000                     7.000000   \n",
              "25%                1.000000                    14.000000   \n",
              "50%                2.000000                    14.000000   \n",
              "75%                3.000000                    15.000000   \n",
              "max               55.000000                    18.000000   \n",
              "\n",
              "       Asymmetrique Profile Score  \n",
              "count                 5022.000000  \n",
              "mean                    16.344883  \n",
              "std                      1.811395  \n",
              "min                     11.000000  \n",
              "25%                     15.000000  \n",
              "50%                     16.000000  \n",
              "75%                     18.000000  \n",
              "max                     20.000000  "
            ]
          },
          "metadata": {
            "tags": []
          },
          "execution_count": 4
        }
      ]
    },
    {
      "cell_type": "code",
      "metadata": {
        "id": "mtJoyuhUTa2f",
        "colab_type": "code",
        "outputId": "a72453bd-8180-4aa4-a25e-12f31bb0d300",
        "colab": {}
      },
      "source": [
        "lead.columns = lead.columns.str.strip().str.replace(' ', '_')\n",
        "#Finding Unique values in each column\n",
        "lead.nunique()"
      ],
      "execution_count": 0,
      "outputs": [
        {
          "output_type": "execute_result",
          "data": {
            "text/plain": [
              "Prospect_ID                                      9240\n",
              "Lead_Number                                      9240\n",
              "Lead_Origin                                         5\n",
              "Lead_Source                                        21\n",
              "Do_Not_Email                                        2\n",
              "Do_Not_Call                                         2\n",
              "Converted                                           2\n",
              "TotalVisits                                        41\n",
              "Total_Time_Spent_on_Website                      1731\n",
              "Page_Views_Per_Visit                              114\n",
              "Last_Activity                                      17\n",
              "Country                                            38\n",
              "Specialization                                     19\n",
              "How_did_you_hear_about_X_Education                 10\n",
              "What_is_your_current_occupation                     6\n",
              "What_matters_most_to_you_in_choosing_a_course       3\n",
              "Search                                              2\n",
              "Magazine                                            1\n",
              "Newspaper_Article                                   2\n",
              "X_Education_Forums                                  2\n",
              "Newspaper                                           2\n",
              "Digital_Advertisement                               2\n",
              "Through_Recommendations                             2\n",
              "Receive_More_Updates_About_Our_Courses              1\n",
              "Tags                                               26\n",
              "Lead_Quality                                        5\n",
              "Update_me_on_Supply_Chain_Content                   1\n",
              "Get_updates_on_DM_Content                           1\n",
              "Lead_Profile                                        6\n",
              "City                                                7\n",
              "Asymmetrique_Activity_Index                         3\n",
              "Asymmetrique_Profile_Index                          3\n",
              "Asymmetrique_Activity_Score                        12\n",
              "Asymmetrique_Profile_Score                         10\n",
              "I_agree_to_pay_the_amount_through_cheque            1\n",
              "A_free_copy_of_Mastering_The_Interview              2\n",
              "Last_Notable_Activity                              16\n",
              "dtype: int64"
            ]
          },
          "metadata": {
            "tags": []
          },
          "execution_count": 5
        }
      ]
    },
    {
      "cell_type": "code",
      "metadata": {
        "id": "yGYKHB-ZTa2k",
        "colab_type": "code",
        "outputId": "26442bf3-bf6c-4f0c-a06a-a5a7362f329a",
        "colab": {}
      },
      "source": [
        "#Target Variable \n",
        "lead['Converted'].value_counts()"
      ],
      "execution_count": 0,
      "outputs": [
        {
          "output_type": "execute_result",
          "data": {
            "text/plain": [
              "0    5679\n",
              "1    3561\n",
              "Name: Converted, dtype: int64"
            ]
          },
          "metadata": {
            "tags": []
          },
          "execution_count": 6
        }
      ]
    },
    {
      "cell_type": "code",
      "metadata": {
        "id": "SVj8BWM0Ta2p",
        "colab_type": "code",
        "outputId": "69c793b7-04a1-441a-ac37-78e5c754e18b",
        "colab": {}
      },
      "source": [
        "#select means no option is selected so converting it to \"Null\" Value\n",
        "lead=lead.replace('Select',np.nan)\n",
        "\n",
        "# Checking the percentage of missing values\n",
        "round(100*(lead.isnull().sum()/len(lead.index)), 2)"
      ],
      "execution_count": 0,
      "outputs": [
        {
          "output_type": "execute_result",
          "data": {
            "text/plain": [
              "Prospect_ID                                       0.00\n",
              "Lead_Number                                       0.00\n",
              "Lead_Origin                                       0.00\n",
              "Lead_Source                                       0.39\n",
              "Do_Not_Email                                      0.00\n",
              "Do_Not_Call                                       0.00\n",
              "Converted                                         0.00\n",
              "TotalVisits                                       1.48\n",
              "Total_Time_Spent_on_Website                       0.00\n",
              "Page_Views_Per_Visit                              1.48\n",
              "Last_Activity                                     1.11\n",
              "Country                                          26.63\n",
              "Specialization                                   36.58\n",
              "How_did_you_hear_about_X_Education               78.46\n",
              "What_is_your_current_occupation                  29.11\n",
              "What_matters_most_to_you_in_choosing_a_course    29.32\n",
              "Search                                            0.00\n",
              "Magazine                                          0.00\n",
              "Newspaper_Article                                 0.00\n",
              "X_Education_Forums                                0.00\n",
              "Newspaper                                         0.00\n",
              "Digital_Advertisement                             0.00\n",
              "Through_Recommendations                           0.00\n",
              "Receive_More_Updates_About_Our_Courses            0.00\n",
              "Tags                                             36.29\n",
              "Lead_Quality                                     51.59\n",
              "Update_me_on_Supply_Chain_Content                 0.00\n",
              "Get_updates_on_DM_Content                         0.00\n",
              "Lead_Profile                                     74.19\n",
              "City                                             39.71\n",
              "Asymmetrique_Activity_Index                      45.65\n",
              "Asymmetrique_Profile_Index                       45.65\n",
              "Asymmetrique_Activity_Score                      45.65\n",
              "Asymmetrique_Profile_Score                       45.65\n",
              "I_agree_to_pay_the_amount_through_cheque          0.00\n",
              "A_free_copy_of_Mastering_The_Interview            0.00\n",
              "Last_Notable_Activity                             0.00\n",
              "dtype: float64"
            ]
          },
          "metadata": {
            "tags": []
          },
          "execution_count": 7
        }
      ]
    },
    {
      "cell_type": "code",
      "metadata": {
        "id": "ZjNZ9FaaTa2t",
        "colab_type": "code",
        "colab": {}
      },
      "source": [
        "#dropping columns which have more than 35% null values except specialization\n",
        "lead = lead.drop(['Asymmetrique_Profile_Index','Asymmetrique_Activity_Index','Asymmetrique_Activity_Score','Asymmetrique_Profile_Score','Lead_Profile','Tags','Lead_Quality','How_did_you_hear_about_X_Education','City'],axis=1)"
      ],
      "execution_count": 0,
      "outputs": []
    },
    {
      "cell_type": "code",
      "metadata": {
        "id": "6CokUYbATa2x",
        "colab_type": "code",
        "outputId": "b7046f72-95a9-4d2c-a397-4826f8c2fa68",
        "colab": {}
      },
      "source": [
        "#We will now remove columns with single value\n",
        "lead.nunique()"
      ],
      "execution_count": 0,
      "outputs": [
        {
          "output_type": "execute_result",
          "data": {
            "text/plain": [
              "Prospect_ID                                      9240\n",
              "Lead_Number                                      9240\n",
              "Lead_Origin                                         5\n",
              "Lead_Source                                        21\n",
              "Do_Not_Email                                        2\n",
              "Do_Not_Call                                         2\n",
              "Converted                                           2\n",
              "TotalVisits                                        41\n",
              "Total_Time_Spent_on_Website                      1731\n",
              "Page_Views_Per_Visit                              114\n",
              "Last_Activity                                      17\n",
              "Country                                            38\n",
              "Specialization                                     18\n",
              "What_is_your_current_occupation                     6\n",
              "What_matters_most_to_you_in_choosing_a_course       3\n",
              "Search                                              2\n",
              "Magazine                                            1\n",
              "Newspaper_Article                                   2\n",
              "X_Education_Forums                                  2\n",
              "Newspaper                                           2\n",
              "Digital_Advertisement                               2\n",
              "Through_Recommendations                             2\n",
              "Receive_More_Updates_About_Our_Courses              1\n",
              "Update_me_on_Supply_Chain_Content                   1\n",
              "Get_updates_on_DM_Content                           1\n",
              "I_agree_to_pay_the_amount_through_cheque            1\n",
              "A_free_copy_of_Mastering_The_Interview              2\n",
              "Last_Notable_Activity                              16\n",
              "dtype: int64"
            ]
          },
          "metadata": {
            "tags": []
          },
          "execution_count": 9
        }
      ]
    },
    {
      "cell_type": "code",
      "metadata": {
        "id": "IOJEioupTa21",
        "colab_type": "code",
        "colab": {}
      },
      "source": [
        "# dropping columns which are single valued\n",
        "lead=lead.drop(['Magazine','Receive_More_Updates_About_Our_Courses','I_agree_to_pay_the_amount_through_cheque','Get_updates_on_DM_Content','Update_me_on_Supply_Chain_Content'],axis=1)\n"
      ],
      "execution_count": 0,
      "outputs": []
    },
    {
      "cell_type": "code",
      "metadata": {
        "id": "XSXOYk6MTa25",
        "colab_type": "code",
        "colab": {}
      },
      "source": [
        "#dropping lead no. as it performs same function as Prospect Id\n",
        "lead=lead.drop(['Lead_Number'],axis=1)"
      ],
      "execution_count": 0,
      "outputs": []
    },
    {
      "cell_type": "code",
      "metadata": {
        "id": "4Cg3eZlmTa28",
        "colab_type": "code",
        "outputId": "78a0edb3-d66e-4950-9760-ba40dc29a1ab",
        "colab": {}
      },
      "source": [
        "#checking continuous variable against target variable\n",
        "sns.barplot(x=lead['Converted'],y=lead['Total_Time_Spent_on_Website'])"
      ],
      "execution_count": 0,
      "outputs": [
        {
          "output_type": "execute_result",
          "data": {
            "text/plain": [
              "<matplotlib.axes._subplots.AxesSubplot at 0x7fafd14e72e8>"
            ]
          },
          "metadata": {
            "tags": []
          },
          "execution_count": 12
        },
        {
          "output_type": "display_data",
          "data": {
            "image/png": "[encoded data removed]",
            "text/plain": [
              "<matplotlib.figure.Figure at 0x7fafd1791c18>"
            ]
          },
          "metadata": {
            "tags": []
          }
        }
      ]
    },
    {
      "cell_type": "markdown",
      "metadata": {
        "id": "0eVLd8GPTa3B",
        "colab_type": "text"
      },
      "source": [
        "As there is good amount of variance so 'Total_Time_Spent_on_Website' can be a good predictor"
      ]
    },
    {
      "cell_type": "code",
      "metadata": {
        "id": "7Wt36H5UTa3C",
        "colab_type": "code",
        "outputId": "0ef68f12-02a2-4858-94e9-6e4e25306647",
        "colab": {}
      },
      "source": [
        "sns.barplot(x=lead['Converted'],y=lead['TotalVisits']) "
      ],
      "execution_count": 0,
      "outputs": [
        {
          "output_type": "execute_result",
          "data": {
            "text/plain": [
              "<matplotlib.axes._subplots.AxesSubplot at 0x7fafd1791e80>"
            ]
          },
          "metadata": {
            "tags": []
          },
          "execution_count": 13
        },
        {
          "output_type": "display_data",
          "data": {
            "image/png": "[encoded data removed]",
            "text/plain": [
              "<matplotlib.figure.Figure at 0x7fafd1516780>"
            ]
          },
          "metadata": {
            "tags": []
          }
        }
      ]
    },
    {
      "cell_type": "markdown",
      "metadata": {
        "id": "D_ckIuNrTa3H",
        "colab_type": "text"
      },
      "source": [
        "As there is no significant variance so 'TotalVisits' variable may not be good predictor"
      ]
    },
    {
      "cell_type": "code",
      "metadata": {
        "id": "AuKpO_bVTa3J",
        "colab_type": "code",
        "outputId": "c8aa6846-ac5d-44f8-be5d-1ea95d521031",
        "colab": {}
      },
      "source": [
        "sns.barplot(x=lead['Converted'],y=lead['Page_Views_Per_Visit']) "
      ],
      "execution_count": 0,
      "outputs": [
        {
          "output_type": "execute_result",
          "data": {
            "text/plain": [
              "<matplotlib.axes._subplots.AxesSubplot at 0x7fafd14a2a90>"
            ]
          },
          "metadata": {
            "tags": []
          },
          "execution_count": 14
        },
        {
          "output_type": "display_data",
          "data": {
            "image/png": "[encoded data removed]",
            "text/plain": [
              "<matplotlib.figure.Figure at 0x7fafd149b198>"
            ]
          },
          "metadata": {
            "tags": []
          }
        }
      ]
    },
    {
      "cell_type": "markdown",
      "metadata": {
        "id": "vanZkZRnTa3P",
        "colab_type": "text"
      },
      "source": [
        "As there is no significant variance so 'Page_Views_Per_Visit' variable may not be good predictor"
      ]
    },
    {
      "cell_type": "code",
      "metadata": {
        "id": "Y9Us1nUQTa3Q",
        "colab_type": "code",
        "outputId": "824e6c51-61da-4117-af16-b3efc89f9a3b",
        "colab": {}
      },
      "source": [
        "#checking categorical variable\n",
        "print(lead[\"Lead_Origin\"].value_counts())\n",
        "print('NaN count', lead[\"Lead_Origin\"].isnull().sum())\n",
        "# Lead import and quick have very few enteries so it would be good to merge it with other categories or remove these record"
      ],
      "execution_count": 0,
      "outputs": [
        {
          "output_type": "stream",
          "text": [
            "Landing Page Submission    4886\n",
            "API                        3580\n",
            "Lead Add Form               718\n",
            "Lead Import                  55\n",
            "Quick Add Form                1\n",
            "Name: Lead_Origin, dtype: int64\n",
            "NaN count 0\n"
          ],
          "name": "stdout"
        }
      ]
    },
    {
      "cell_type": "code",
      "metadata": {
        "id": "oYwsVKVhTa3V",
        "colab_type": "code",
        "outputId": "8def154c-3974-411b-ab59-cbecff78fa19",
        "colab": {}
      },
      "source": [
        "print(lead[\"Lead_Source\"].value_counts())\n",
        "print('NaN count', lead[\"Lead_Source\"].isnull().sum())\n",
        "# many categories have very few enteries so it would be good to merge them with other categories or remove these record"
      ],
      "execution_count": 0,
      "outputs": [
        {
          "output_type": "stream",
          "text": [
            "Google               2868\n",
            "Direct Traffic       2543\n",
            "Olark Chat           1755\n",
            "Organic Search       1154\n",
            "Reference             534\n",
            "Welingak Website      142\n",
            "Referral Sites        125\n",
            "Facebook               55\n",
            "bing                    6\n",
            "google                  5\n",
            "Click2call              4\n",
            "Social Media            2\n",
            "Press_Release           2\n",
            "Live Chat               2\n",
            "welearnblog_Home        1\n",
            "Pay per Click Ads       1\n",
            "WeLearn                 1\n",
            "youtubechannel          1\n",
            "NC_EDM                  1\n",
            "blog                    1\n",
            "testone                 1\n",
            "Name: Lead_Source, dtype: int64\n",
            "NaN count 36\n"
          ],
          "name": "stdout"
        }
      ]
    },
    {
      "cell_type": "code",
      "metadata": {
        "id": "XW6Nuhq4Ta3c",
        "colab_type": "code",
        "outputId": "bc00ff2c-4ca7-4697-b16d-bbb8243ba53f",
        "colab": {}
      },
      "source": [
        "print(lead[\"Do_Not_Email\"].value_counts())\n",
        "print('NaN count', lead[\"Do_Not_Email\"].isnull().sum())\n"
      ],
      "execution_count": 0,
      "outputs": [
        {
          "output_type": "stream",
          "text": [
            "No     8506\n",
            "Yes     734\n",
            "Name: Do_Not_Email, dtype: int64\n",
            "NaN count 0\n"
          ],
          "name": "stdout"
        }
      ]
    },
    {
      "cell_type": "code",
      "metadata": {
        "id": "ofE297FsTa3i",
        "colab_type": "code",
        "outputId": "6dd56ea8-77ce-43b5-e4ed-ed5c9c68a26c",
        "colab": {}
      },
      "source": [
        "print(lead[\"Do_Not_Call\"].value_counts())\n",
        "print('NaN count', lead[\"Do_Not_Call\"].isnull().sum())\n"
      ],
      "execution_count": 0,
      "outputs": [
        {
          "output_type": "stream",
          "text": [
            "No     9238\n",
            "Yes       2\n",
            "Name: Do_Not_Call, dtype: int64\n",
            "NaN count 0\n"
          ],
          "name": "stdout"
        }
      ]
    },
    {
      "cell_type": "code",
      "metadata": {
        "id": "aiXPqHMeTa3m",
        "colab_type": "code",
        "outputId": "84955b7f-4f41-48a8-c0ae-31ceca7c9999",
        "colab": {}
      },
      "source": [
        "print(lead[\"Country\"].value_counts())\n",
        "print('NaN count', lead[\"Country\"].isnull().sum())\n",
        "# many categories have very few enteries so it would be good to merge them with other categories or create new category for them\n",
        "#NaN  can be clubbed to make new category \"Not Declared\""
      ],
      "execution_count": 0,
      "outputs": [
        {
          "output_type": "stream",
          "text": [
            "India                   6492\n",
            "United States             69\n",
            "United Arab Emirates      53\n",
            "Singapore                 24\n",
            "Saudi Arabia              21\n",
            "United Kingdom            15\n",
            "Australia                 13\n",
            "Qatar                     10\n",
            "Hong Kong                  7\n",
            "Bahrain                    7\n",
            "France                     6\n",
            "Oman                       6\n",
            "unknown                    5\n",
            "Canada                     4\n",
            "South Africa               4\n",
            "Kuwait                     4\n",
            "Germany                    4\n",
            "Nigeria                    4\n",
            "Sweden                     3\n",
            "Bangladesh                 2\n",
            "China                      2\n",
            "Uganda                     2\n",
            "Netherlands                2\n",
            "Ghana                      2\n",
            "Philippines                2\n",
            "Italy                      2\n",
            "Asia/Pacific Region        2\n",
            "Belgium                    2\n",
            "Liberia                    1\n",
            "Vietnam                    1\n",
            "Tanzania                   1\n",
            "Indonesia                  1\n",
            "Malaysia                   1\n",
            "Sri Lanka                  1\n",
            "Kenya                      1\n",
            "Switzerland                1\n",
            "Russia                     1\n",
            "Denmark                    1\n",
            "Name: Country, dtype: int64\n",
            "NaN count 2461\n"
          ],
          "name": "stdout"
        }
      ]
    },
    {
      "cell_type": "code",
      "metadata": {
        "id": "7AM-Pj8YTa3q",
        "colab_type": "code",
        "outputId": "7cd5bf9a-7739-4eb3-ee3f-bd15ba4187fa",
        "colab": {}
      },
      "source": [
        "print(lead[\"Specialization\"].value_counts())\n",
        "print('NaN count', lead[\"Specialization\"].isnull().sum())"
      ],
      "execution_count": 0,
      "outputs": [
        {
          "output_type": "stream",
          "text": [
            "Finance Management                   976\n",
            "Human Resource Management            848\n",
            "Marketing Management                 838\n",
            "Operations Management                503\n",
            "Business Administration              403\n",
            "IT Projects Management               366\n",
            "Supply Chain Management              349\n",
            "Banking, Investment And Insurance    338\n",
            "Media and Advertising                203\n",
            "Travel and Tourism                   203\n",
            "International Business               178\n",
            "Healthcare Management                159\n",
            "Hospitality Management               114\n",
            "E-COMMERCE                           112\n",
            "Retail Management                    100\n",
            "Rural and Agribusiness                73\n",
            "E-Business                            57\n",
            "Services Excellence                   40\n",
            "Name: Specialization, dtype: int64\n",
            "NaN count 3380\n"
          ],
          "name": "stdout"
        }
      ]
    },
    {
      "cell_type": "code",
      "metadata": {
        "id": "2zu-gz97Ta3u",
        "colab_type": "code",
        "outputId": "be9526ac-b918-4612-e3a2-7c8fdebe969c",
        "colab": {}
      },
      "source": [
        "print(lead[\"What_is_your_current_occupation\"].value_counts())\n",
        "print('NaN count', lead[\"What_is_your_current_occupation\"].isnull().sum())\n",
        "##categories less than 100 should be removed to make it significant\n",
        "##instead of dropping \"NaN\", they can be assigned new category \"not declared\""
      ],
      "execution_count": 0,
      "outputs": [
        {
          "output_type": "stream",
          "text": [
            "Unemployed              5600\n",
            "Working Professional     706\n",
            "Student                  210\n",
            "Other                     16\n",
            "Housewife                 10\n",
            "Businessman                8\n",
            "Name: What_is_your_current_occupation, dtype: int64\n",
            "NaN count 2690\n"
          ],
          "name": "stdout"
        }
      ]
    },
    {
      "cell_type": "code",
      "metadata": {
        "id": "m-EjwFI0Ta3y",
        "colab_type": "code",
        "outputId": "ca9a8fe8-b819-4059-aa07-3c6538540125",
        "colab": {}
      },
      "source": [
        "print(lead[\"What_matters_most_to_you_in_choosing_a_course\"].value_counts())\n",
        "print('NaN count', lead[\"What_matters_most_to_you_in_choosing_a_course\"].isnull().sum())\n",
        "\n",
        "# Flexibility & Convenience and Other should be removed"
      ],
      "execution_count": 0,
      "outputs": [
        {
          "output_type": "stream",
          "text": [
            "Better Career Prospects      6528\n",
            "Flexibility & Convenience       2\n",
            "Other                           1\n",
            "Name: What_matters_most_to_you_in_choosing_a_course, dtype: int64\n",
            "NaN count 2709\n"
          ],
          "name": "stdout"
        }
      ]
    },
    {
      "cell_type": "code",
      "metadata": {
        "id": "qHzA-HwsTa32",
        "colab_type": "code",
        "outputId": "b90e72bc-383d-4059-fb32-a49938b65a1a",
        "colab": {}
      },
      "source": [
        "print(lead[\"Search\"].value_counts())\n",
        "print('NaN count', lead[\"Search\"].isnull().sum())\n",
        "#\"yes\" has only 14 records so it would be better to drop the variable"
      ],
      "execution_count": 0,
      "outputs": [
        {
          "output_type": "stream",
          "text": [
            "No     9226\n",
            "Yes      14\n",
            "Name: Search, dtype: int64\n",
            "NaN count 0\n"
          ],
          "name": "stdout"
        }
      ]
    },
    {
      "cell_type": "code",
      "metadata": {
        "id": "FTHq0lrHTa36",
        "colab_type": "code",
        "outputId": "fd035d7b-9fae-47a7-d3a1-ed938dd10e4c",
        "colab": {}
      },
      "source": [
        "print(lead[\"Newspaper_Article\"].value_counts())\n",
        "print('NaN count', lead[\"Newspaper_Article\"].isnull().sum())\n",
        "#drop the variable"
      ],
      "execution_count": 0,
      "outputs": [
        {
          "output_type": "stream",
          "text": [
            "No     9238\n",
            "Yes       2\n",
            "Name: Newspaper_Article, dtype: int64\n",
            "NaN count 0\n"
          ],
          "name": "stdout"
        }
      ]
    },
    {
      "cell_type": "code",
      "metadata": {
        "id": "Vtzq0wM3Ta4Y",
        "colab_type": "code",
        "outputId": "cde3cba2-7fe5-46f6-9002-e1d1fcf81730",
        "colab": {}
      },
      "source": [
        "print(lead[\"X_Education_Forums\"].value_counts())\n",
        "print('NaN count', lead[\"X_Education_Forums\"].isnull().sum())\n",
        "#drop the variable"
      ],
      "execution_count": 0,
      "outputs": [
        {
          "output_type": "stream",
          "text": [
            "No     9239\n",
            "Yes       1\n",
            "Name: X_Education_Forums, dtype: int64\n",
            "NaN count 0\n"
          ],
          "name": "stdout"
        }
      ]
    },
    {
      "cell_type": "code",
      "metadata": {
        "id": "vyr5hZhUTa4f",
        "colab_type": "code",
        "outputId": "ed10d884-563a-48c5-9530-e7b92c5a826f",
        "colab": {}
      },
      "source": [
        "print(lead[\"Newspaper\"].value_counts())\n",
        "print('NaN count', lead[\"Newspaper\"].isnull().sum())\n",
        "#drop the variable"
      ],
      "execution_count": 0,
      "outputs": [
        {
          "output_type": "stream",
          "text": [
            "No     9239\n",
            "Yes       1\n",
            "Name: Newspaper, dtype: int64\n",
            "NaN count 0\n"
          ],
          "name": "stdout"
        }
      ]
    },
    {
      "cell_type": "code",
      "metadata": {
        "id": "LCUkm4EjTa4m",
        "colab_type": "code",
        "outputId": "9724b6e8-cbda-438b-9688-f10b724eb138",
        "colab": {}
      },
      "source": [
        "print(lead[\"Digital_Advertisement\"].value_counts())\n",
        "print('NaN count', lead[\"Digital_Advertisement\"].isnull().sum())\n",
        "#drop the variable"
      ],
      "execution_count": 0,
      "outputs": [
        {
          "output_type": "stream",
          "text": [
            "No     9236\n",
            "Yes       4\n",
            "Name: Digital_Advertisement, dtype: int64\n",
            "NaN count 0\n"
          ],
          "name": "stdout"
        }
      ]
    },
    {
      "cell_type": "code",
      "metadata": {
        "id": "QaKoPAsbTa4u",
        "colab_type": "code",
        "outputId": "1f58f95c-e137-4c43-f2ae-27e5d1f44c6b",
        "colab": {}
      },
      "source": [
        "print(lead[\"Through_Recommendations\"].value_counts())\n",
        "print('NaN count', lead[\"Through_Recommendations\"].isnull().sum())\n",
        "#drop the variable"
      ],
      "execution_count": 0,
      "outputs": [
        {
          "output_type": "stream",
          "text": [
            "No     9233\n",
            "Yes       7\n",
            "Name: Through_Recommendations, dtype: int64\n",
            "NaN count 0\n"
          ],
          "name": "stdout"
        }
      ]
    },
    {
      "cell_type": "code",
      "metadata": {
        "id": "lkiISRBJTa42",
        "colab_type": "code",
        "outputId": "ed73177a-4954-494c-c7f8-5b28871c0260",
        "colab": {}
      },
      "source": [
        "print(lead[\"A_free_copy_of_Mastering_The_Interview\"].value_counts())\n",
        "print('NaN count', lead[\"A_free_copy_of_Mastering_The_Interview\"].isnull().sum())\n",
        "#keep the variable"
      ],
      "execution_count": 0,
      "outputs": [
        {
          "output_type": "stream",
          "text": [
            "No     6352\n",
            "Yes    2888\n",
            "Name: A_free_copy_of_Mastering_The_Interview, dtype: int64\n",
            "NaN count 0\n"
          ],
          "name": "stdout"
        }
      ]
    },
    {
      "cell_type": "code",
      "metadata": {
        "id": "sgm5U3G-Ta5A",
        "colab_type": "code",
        "outputId": "0729a979-b57e-4e46-c99c-73e5141e140c",
        "colab": {}
      },
      "source": [
        "print(lead[\"Last_Notable_Activity\"].value_counts())\n",
        "print('NaN count', lead[\"Last_Notable_Activity\"].isnull().sum())\n",
        "#drop the categories with records less than 100"
      ],
      "execution_count": 0,
      "outputs": [
        {
          "output_type": "stream",
          "text": [
            "Modified                        3407\n",
            "Email Opened                    2827\n",
            "SMS Sent                        2172\n",
            "Page Visited on Website          318\n",
            "Olark Chat Conversation          183\n",
            "Email Link Clicked               173\n",
            "Email Bounced                     60\n",
            "Unsubscribed                      47\n",
            "Unreachable                       32\n",
            "Had a Phone Conversation          14\n",
            "Email Marked Spam                  2\n",
            "Form Submitted on Website          1\n",
            "View in browser link Clicked       1\n",
            "Email Received                     1\n",
            "Resubscribed to emails             1\n",
            "Approached upfront                 1\n",
            "Name: Last_Notable_Activity, dtype: int64\n",
            "NaN count 0\n"
          ],
          "name": "stdout"
        }
      ]
    },
    {
      "cell_type": "code",
      "metadata": {
        "id": "U_QuDS34Ta5O",
        "colab_type": "code",
        "outputId": "d86f45e6-c762-414f-ab0f-982b057bd9da",
        "colab": {}
      },
      "source": [
        "print(lead[\"Last_Activity\"].value_counts())\n",
        "print('NaN count', lead[\"Last_Activity\"].isnull().sum())\n",
        "#it does not add much information as same thing is captured in the \"last notable activity\" variable"
      ],
      "execution_count": 0,
      "outputs": [
        {
          "output_type": "stream",
          "text": [
            "Email Opened                    3437\n",
            "SMS Sent                        2745\n",
            "Olark Chat Conversation          973\n",
            "Page Visited on Website          640\n",
            "Converted to Lead                428\n",
            "Email Bounced                    326\n",
            "Email Link Clicked               267\n",
            "Form Submitted on Website        116\n",
            "Unreachable                       93\n",
            "Unsubscribed                      61\n",
            "Had a Phone Conversation          30\n",
            "Approached upfront                 9\n",
            "View in browser link Clicked       6\n",
            "Email Received                     2\n",
            "Email Marked Spam                  2\n",
            "Visited Booth in Tradeshow         1\n",
            "Resubscribed to emails             1\n",
            "Name: Last_Activity, dtype: int64\n",
            "NaN count 103\n"
          ],
          "name": "stdout"
        }
      ]
    },
    {
      "cell_type": "code",
      "metadata": {
        "id": "nxZlQyuiTa5X",
        "colab_type": "code",
        "outputId": "6b41ff7e-7492-49c7-e46c-77aaf8e723c3",
        "colab": {}
      },
      "source": [
        "print(lead.shape)\n",
        "\n",
        "lead.head()"
      ],
      "execution_count": 0,
      "outputs": [
        {
          "output_type": "stream",
          "text": [
            "(9240, 22)\n"
          ],
          "name": "stdout"
        },
        {
          "output_type": "execute_result",
          "data": {
            "text/html": [
              "<div>\n",
              "<style scoped>\n",
              "    .dataframe tbody tr th:only-of-type {\n",
              "        vertical-align: middle;\n",
              "    }\n",
              "\n",
              "    .dataframe tbody tr th {\n",
              "        vertical-align: top;\n",
              "    }\n",
              "\n",
              "    .dataframe thead th {\n",
              "        text-align: right;\n",
              "    }\n",
              "</style>\n",
              "<table border=\"1\" class=\"dataframe\">\n",
              "  <thead>\n",
              "    <tr style=\"text-align: right;\">\n",
              "      <th></th>\n",
              "      <th>Prospect_ID</th>\n",
              "      <th>Lead_Origin</th>\n",
              "      <th>Lead_Source</th>\n",
              "      <th>Do_Not_Email</th>\n",
              "      <th>Do_Not_Call</th>\n",
              "      <th>Converted</th>\n",
              "      <th>TotalVisits</th>\n",
              "      <th>Total_Time_Spent_on_Website</th>\n",
              "      <th>Page_Views_Per_Visit</th>\n",
              "      <th>Last_Activity</th>\n",
              "      <th>...</th>\n",
              "      <th>What_is_your_current_occupation</th>\n",
              "      <th>What_matters_most_to_you_in_choosing_a_course</th>\n",
              "      <th>Search</th>\n",
              "      <th>Newspaper_Article</th>\n",
              "      <th>X_Education_Forums</th>\n",
              "      <th>Newspaper</th>\n",
              "      <th>Digital_Advertisement</th>\n",
              "      <th>Through_Recommendations</th>\n",
              "      <th>A_free_copy_of_Mastering_The_Interview</th>\n",
              "      <th>Last_Notable_Activity</th>\n",
              "    </tr>\n",
              "  </thead>\n",
              "  <tbody>\n",
              "    <tr>\n",
              "      <th>0</th>\n",
              "      <td>7927b2df-8bba-4d29-b9a2-b6e0beafe620</td>\n",
              "      <td>API</td>\n",
              "      <td>Olark Chat</td>\n",
              "      <td>No</td>\n",
              "      <td>No</td>\n",
              "      <td>0</td>\n",
              "      <td>0.0</td>\n",
              "      <td>0</td>\n",
              "      <td>0.0</td>\n",
              "      <td>Page Visited on Website</td>\n",
              "      <td>...</td>\n",
              "      <td>Unemployed</td>\n",
              "      <td>Better Career Prospects</td>\n",
              "      <td>No</td>\n",
              "      <td>No</td>\n",
              "      <td>No</td>\n",
              "      <td>No</td>\n",
              "      <td>No</td>\n",
              "      <td>No</td>\n",
              "      <td>No</td>\n",
              "      <td>Modified</td>\n",
              "    </tr>\n",
              "    <tr>\n",
              "      <th>1</th>\n",
              "      <td>2a272436-5132-4136-86fa-dcc88c88f482</td>\n",
              "      <td>API</td>\n",
              "      <td>Organic Search</td>\n",
              "      <td>No</td>\n",
              "      <td>No</td>\n",
              "      <td>0</td>\n",
              "      <td>5.0</td>\n",
              "      <td>674</td>\n",
              "      <td>2.5</td>\n",
              "      <td>Email Opened</td>\n",
              "      <td>...</td>\n",
              "      <td>Unemployed</td>\n",
              "      <td>Better Career Prospects</td>\n",
              "      <td>No</td>\n",
              "      <td>No</td>\n",
              "      <td>No</td>\n",
              "      <td>No</td>\n",
              "      <td>No</td>\n",
              "      <td>No</td>\n",
              "      <td>No</td>\n",
              "      <td>Email Opened</td>\n",
              "    </tr>\n",
              "    <tr>\n",
              "      <th>2</th>\n",
              "      <td>8cc8c611-a219-4f35-ad23-fdfd2656bd8a</td>\n",
              "      <td>Landing Page Submission</td>\n",
              "      <td>Direct Traffic</td>\n",
              "      <td>No</td>\n",
              "      <td>No</td>\n",
              "      <td>1</td>\n",
              "      <td>2.0</td>\n",
              "      <td>1532</td>\n",
              "      <td>2.0</td>\n",
              "      <td>Email Opened</td>\n",
              "      <td>...</td>\n",
              "      <td>Student</td>\n",
              "      <td>Better Career Prospects</td>\n",
              "      <td>No</td>\n",
              "      <td>No</td>\n",
              "      <td>No</td>\n",
              "      <td>No</td>\n",
              "      <td>No</td>\n",
              "      <td>No</td>\n",
              "      <td>Yes</td>\n",
              "      <td>Email Opened</td>\n",
              "    </tr>\n",
              "    <tr>\n",
              "      <th>3</th>\n",
              "      <td>0cc2df48-7cf4-4e39-9de9-19797f9b38cc</td>\n",
              "      <td>Landing Page Submission</td>\n",
              "      <td>Direct Traffic</td>\n",
              "      <td>No</td>\n",
              "      <td>No</td>\n",
              "      <td>0</td>\n",
              "      <td>1.0</td>\n",
              "      <td>305</td>\n",
              "      <td>1.0</td>\n",
              "      <td>Unreachable</td>\n",
              "      <td>...</td>\n",
              "      <td>Unemployed</td>\n",
              "      <td>Better Career Prospects</td>\n",
              "      <td>No</td>\n",
              "      <td>No</td>\n",
              "      <td>No</td>\n",
              "      <td>No</td>\n",
              "      <td>No</td>\n",
              "      <td>No</td>\n",
              "      <td>No</td>\n",
              "      <td>Modified</td>\n",
              "    </tr>\n",
              "    <tr>\n",
              "      <th>4</th>\n",
              "      <td>3256f628-e534-4826-9d63-4a8b88782852</td>\n",
              "      <td>Landing Page Submission</td>\n",
              "      <td>Google</td>\n",
              "      <td>No</td>\n",
              "      <td>No</td>\n",
              "      <td>1</td>\n",
              "      <td>2.0</td>\n",
              "      <td>1428</td>\n",
              "      <td>1.0</td>\n",
              "      <td>Converted to Lead</td>\n",
              "      <td>...</td>\n",
              "      <td>Unemployed</td>\n",
              "      <td>Better Career Prospects</td>\n",
              "      <td>No</td>\n",
              "      <td>No</td>\n",
              "      <td>No</td>\n",
              "      <td>No</td>\n",
              "      <td>No</td>\n",
              "      <td>No</td>\n",
              "      <td>No</td>\n",
              "      <td>Modified</td>\n",
              "    </tr>\n",
              "  </tbody>\n",
              "</table>\n",
              "<p>5 rows × 22 columns</p>\n",
              "</div>"
            ],
            "text/plain": [
              "                            Prospect_ID              Lead_Origin  \\\n",
              "0  7927b2df-8bba-4d29-b9a2-b6e0beafe620                      API   \n",
              "1  2a272436-5132-4136-86fa-dcc88c88f482                      API   \n",
              "2  8cc8c611-a219-4f35-ad23-fdfd2656bd8a  Landing Page Submission   \n",
              "3  0cc2df48-7cf4-4e39-9de9-19797f9b38cc  Landing Page Submission   \n",
              "4  3256f628-e534-4826-9d63-4a8b88782852  Landing Page Submission   \n",
              "\n",
              "      Lead_Source Do_Not_Email Do_Not_Call  Converted  TotalVisits  \\\n",
              "0      Olark Chat           No          No          0          0.0   \n",
              "1  Organic Search           No          No          0          5.0   \n",
              "2  Direct Traffic           No          No          1          2.0   \n",
              "3  Direct Traffic           No          No          0          1.0   \n",
              "4          Google           No          No          1          2.0   \n",
              "\n",
              "   Total_Time_Spent_on_Website  Page_Views_Per_Visit            Last_Activity  \\\n",
              "0                            0                   0.0  Page Visited on Website   \n",
              "1                          674                   2.5             Email Opened   \n",
              "2                         1532                   2.0             Email Opened   \n",
              "3                          305                   1.0              Unreachable   \n",
              "4                         1428                   1.0        Converted to Lead   \n",
              "\n",
              "           ...          What_is_your_current_occupation  \\\n",
              "0          ...                               Unemployed   \n",
              "1          ...                               Unemployed   \n",
              "2          ...                                  Student   \n",
              "3          ...                               Unemployed   \n",
              "4          ...                               Unemployed   \n",
              "\n",
              "  What_matters_most_to_you_in_choosing_a_course Search Newspaper_Article  \\\n",
              "0                       Better Career Prospects     No                No   \n",
              "1                       Better Career Prospects     No                No   \n",
              "2                       Better Career Prospects     No                No   \n",
              "3                       Better Career Prospects     No                No   \n",
              "4                       Better Career Prospects     No                No   \n",
              "\n",
              "  X_Education_Forums Newspaper Digital_Advertisement Through_Recommendations  \\\n",
              "0                 No        No                    No                      No   \n",
              "1                 No        No                    No                      No   \n",
              "2                 No        No                    No                      No   \n",
              "3                 No        No                    No                      No   \n",
              "4                 No        No                    No                      No   \n",
              "\n",
              "  A_free_copy_of_Mastering_The_Interview Last_Notable_Activity  \n",
              "0                                     No              Modified  \n",
              "1                                     No          Email Opened  \n",
              "2                                    Yes          Email Opened  \n",
              "3                                     No              Modified  \n",
              "4                                     No              Modified  \n",
              "\n",
              "[5 rows x 22 columns]"
            ]
          },
          "metadata": {
            "tags": []
          },
          "execution_count": 32
        }
      ]
    },
    {
      "cell_type": "code",
      "metadata": {
        "id": "ZIhqPH7VTa5i",
        "colab_type": "code",
        "colab": {}
      },
      "source": [
        "#Assigning categories to NaN and clubbing others as discussed in above analysis\n",
        "lead['Lead_Source'].replace('google','Google', inplace=True)\n",
        "lead['Lead_Source'].replace('Welingak Website','others', inplace=True)\n",
        "lead['Lead_Source'].replace('Referral Sites','others', inplace=True)\n",
        "lead['Lead_Source'].replace('Reference','others', inplace=True)\n",
        "lead['Specialization'].replace('Select','not declared', inplace=True) \n",
        "lead['What_matters_most_to_you_in_choosing_a_course'].fillna('not declared', inplace=True)\n",
        "lead['Country'].fillna('not declared', inplace=True)\n",
        "lead['Specialization'].fillna('not declared', inplace=True) \n",
        "lead['What_is_your_current_occupation'].fillna('not declared', inplace=True)"
      ],
      "execution_count": 0,
      "outputs": []
    },
    {
      "cell_type": "code",
      "metadata": {
        "id": "m37CWFdMTa5p",
        "colab_type": "code",
        "colab": {}
      },
      "source": [
        "#clubbing the countries other than India and making new category \"Outside India\"\n",
        "def slots(x):\n",
        "    category = \"\"\n",
        "    if x == \"India\":\n",
        "        category = \"India\"\n",
        "    elif x == \"not declared\":\n",
        "        category = \"Not Declared\"\n",
        "    else:\n",
        "        category = \"Outside India\"\n",
        "    return category\n",
        "\n",
        "lead['Country'] = lead.apply(lambda x:slots(x['Country']), axis = 1)"
      ],
      "execution_count": 0,
      "outputs": []
    },
    {
      "cell_type": "code",
      "metadata": {
        "id": "biDihuniTa5x",
        "colab_type": "code",
        "colab": {}
      },
      "source": [
        "#as discussed in category analysis here we will drop the categories in various variables\n",
        "\n",
        "few_entries=lead[(lead['Lead_Source']=='bing') | (lead['Lead_Source']=='Facebook') | (lead['Lead_Source']=='Click2call') | \n",
        "                 (lead['Lead_Source']=='Press_Release') |\n",
        "             (lead['Lead_Source']=='Social Media') | (lead['Lead_Source']=='Live Chat') | (lead['Lead_Source']=='blog') | \n",
        "             (lead['Lead_Source']=='youtubechannel') | (lead['Lead_Source']=='NC_EDM') | (lead['Lead_Source']=='testone') |\n",
        "            (lead['Lead_Source']=='WeLearn') | (lead['Lead_Source']=='Pay per Click Ads') | (lead['Lead_Source']=='welearnblog_Home')|\n",
        "           (lead['Lead_Origin']=='Quick Add Form')|(lead['Lead_Origin']=='Lead Import') |(lead['What_is_your_current_occupation']=='Other') |\n",
        "                 (lead['What_is_your_current_occupation']=='Housewife') \n",
        "           |(lead['What_is_your_current_occupation']=='Businessman')  |(lead['What_matters_most_to_you_in_choosing_a_course']=='Flexibility & Convenience')  |\n",
        "                 (lead['What_matters_most_to_you_in_choosing_a_course']=='Other')\n",
        "            |(lead['Last_Notable_Activity']=='Unsubscribed') |(lead['Last_Notable_Activity']=='Email Bounced') |(lead['Last_Notable_Activity']=='Unreachable ')\n",
        "            |(lead['Last_Notable_Activity']=='Had a Phone Conversation') |(lead['Last_Notable_Activity']=='Email Marked Spam ') |(lead['Last_Notable_Activity']=='Approached upfront')\n",
        "            |(lead['Last_Notable_Activity']=='Form Submitted on Website') |(lead['Last_Notable_Activity']=='Resubscribed to emails') |(lead['Last_Notable_Activity']=='View in browser link Clicked')\n",
        "            |(lead['Last_Notable_Activity']=='Email Received')|(lead['Last_Notable_Activity']=='Unreachable')|(lead['Last_Notable_Activity']=='Unreachable')\n",
        "             | (lead['Specialization']=='Services Excellence')].index\n",
        "\n",
        "lead=lead.drop(few_entries)"
      ],
      "execution_count": 0,
      "outputs": []
    },
    {
      "cell_type": "code",
      "metadata": {
        "id": "GzkrTLtoTa54",
        "colab_type": "code",
        "colab": {}
      },
      "source": [
        "#dropping the non significant variables as disscussed above\n",
        "colll=['Search','Newspaper_Article','X_Education_Forums','Newspaper','Digital_Advertisement',\n",
        "      'Through_Recommendations','Do_Not_Call','Last_Activity']\n",
        "lead =lead.drop(columns=colll, axis=0)"
      ],
      "execution_count": 0,
      "outputs": []
    },
    {
      "cell_type": "code",
      "metadata": {
        "id": "eQPPXvuPTa5-",
        "colab_type": "code",
        "outputId": "95d382ac-3b46-4f0a-d561-6a5676c2e4dd",
        "colab": {}
      },
      "source": [
        "lead.shape"
      ],
      "execution_count": 0,
      "outputs": [
        {
          "output_type": "execute_result",
          "data": {
            "text/plain": [
              "(8927, 14)"
            ]
          },
          "metadata": {
            "tags": []
          },
          "execution_count": 37
        }
      ]
    },
    {
      "cell_type": "code",
      "metadata": {
        "id": "Pkq7W8wRTa6E",
        "colab_type": "code",
        "outputId": "0b5d078d-1f7b-4843-e643-7d2806ed9616",
        "colab": {}
      },
      "source": [
        "#checking the null values \n",
        "print(((lead.isnull().sum()/len(lead))*100).sort_values(ascending=False),'%')"
      ],
      "execution_count": 0,
      "outputs": [
        {
          "output_type": "stream",
          "text": [
            "Page_Views_Per_Visit                             1.221015\n",
            "TotalVisits                                      1.221015\n",
            "Lead_Source                                      0.358463\n",
            "Last_Notable_Activity                            0.000000\n",
            "A_free_copy_of_Mastering_The_Interview           0.000000\n",
            "What_matters_most_to_you_in_choosing_a_course    0.000000\n",
            "What_is_your_current_occupation                  0.000000\n",
            "Specialization                                   0.000000\n",
            "Country                                          0.000000\n",
            "Total_Time_Spent_on_Website                      0.000000\n",
            "Converted                                        0.000000\n",
            "Do_Not_Email                                     0.000000\n",
            "Lead_Origin                                      0.000000\n",
            "Prospect_ID                                      0.000000\n",
            "dtype: float64 %\n"
          ],
          "name": "stdout"
        }
      ]
    },
    {
      "cell_type": "markdown",
      "metadata": {
        "id": "I8s9TrsKTa6P",
        "colab_type": "text"
      },
      "source": [
        " ## Exploratory Data Analysis: Frequency plot for converted~each feature"
      ]
    },
    {
      "cell_type": "markdown",
      "metadata": {
        "id": "1cQ4Ya5oTa6S",
        "colab_type": "text"
      },
      "source": [
        "Plotting each of the 12 vfeatures, against Converted and looking at the frequency of leads"
      ]
    },
    {
      "cell_type": "code",
      "metadata": {
        "id": "fyadOFKGTa6T",
        "colab_type": "code",
        "outputId": "5d20a962-5f13-4c3e-d68e-5f4e59d43c69",
        "colab": {}
      },
      "source": [
        "sns.countplot(x='Lead_Origin', hue='Converted', data=lead)"
      ],
      "execution_count": 0,
      "outputs": [
        {
          "output_type": "execute_result",
          "data": {
            "text/plain": [
              "<matplotlib.axes._subplots.AxesSubplot at 0x7fafd1485b38>"
            ]
          },
          "metadata": {
            "tags": []
          },
          "execution_count": 39
        },
        {
          "output_type": "display_data",
          "data": {
            "image/png": "[encoded data removed]",
            "text/plain": [
              "<matplotlib.figure.Figure at 0x7fafd13e7320>"
            ]
          },
          "metadata": {
            "tags": []
          }
        }
      ]
    },
    {
      "cell_type": "code",
      "metadata": {
        "id": "ZdInbHdbTa6Y",
        "colab_type": "code",
        "outputId": "4d0008d8-593d-4ec0-d748-ee78871b1ade",
        "colab": {}
      },
      "source": [
        "plt.figure(figsize=(15,4))\n",
        "sns.countplot(x='Lead_Source', hue='Converted', data=lead)"
      ],
      "execution_count": 0,
      "outputs": [
        {
          "output_type": "execute_result",
          "data": {
            "text/plain": [
              "<matplotlib.axes._subplots.AxesSubplot at 0x7fafcf2d2208>"
            ]
          },
          "metadata": {
            "tags": []
          },
          "execution_count": 40
        },
        {
          "output_type": "display_data",
          "data": {
            "image/png": "[encoded data removed]",
            "text/plain": [
              "<matplotlib.figure.Figure at 0x7fafd1398f28>"
            ]
          },
          "metadata": {
            "tags": []
          }
        }
      ]
    },
    {
      "cell_type": "code",
      "metadata": {
        "id": "xTX86A3mTa6d",
        "colab_type": "code",
        "outputId": "9ff2e318-2971-4131-89fd-b372e41ee4da",
        "colab": {}
      },
      "source": [
        "sns.countplot(x='Do_Not_Email', hue='Converted', data=lead)"
      ],
      "execution_count": 0,
      "outputs": [
        {
          "output_type": "execute_result",
          "data": {
            "text/plain": [
              "<matplotlib.axes._subplots.AxesSubplot at 0x7fafcf34f048>"
            ]
          },
          "metadata": {
            "tags": []
          },
          "execution_count": 41
        },
        {
          "output_type": "display_data",
          "data": {
            "image/png": "[encoded data removed]",
            "text/plain": [
              "<matplotlib.figure.Figure at 0x7fafcf24c198>"
            ]
          },
          "metadata": {
            "tags": []
          }
        }
      ]
    },
    {
      "cell_type": "code",
      "metadata": {
        "id": "fGqoiP4dTa6l",
        "colab_type": "code",
        "outputId": "d3e5a1b5-5817-4428-85eb-314a37ab0f40",
        "colab": {}
      },
      "source": [
        "plt.figure(figsize=(15,4))\n",
        "sns.countplot(x='Last_Notable_Activity', hue='Converted', data=lead)"
      ],
      "execution_count": 0,
      "outputs": [
        {
          "output_type": "execute_result",
          "data": {
            "text/plain": [
              "<matplotlib.axes._subplots.AxesSubplot at 0x7fafcf34f588>"
            ]
          },
          "metadata": {
            "tags": []
          },
          "execution_count": 42
        },
        {
          "output_type": "display_data",
          "data": {
            "image/png": "[encoded data removed]",
            "text/plain": [
              "<matplotlib.figure.Figure at 0x7fafcf26c0b8>"
            ]
          },
          "metadata": {
            "tags": []
          }
        }
      ]
    },
    {
      "cell_type": "code",
      "metadata": {
        "id": "LBXl5BRhTa6p",
        "colab_type": "code",
        "outputId": "7e65adbc-ae62-4db3-e83d-32edc7bd5c03",
        "colab": {}
      },
      "source": [
        "plt.figure(figsize=(15,4))\n",
        "plott=sns.countplot(x='Specialization', hue='Converted', data=lead)\n",
        "for item in plott.get_xticklabels():\n",
        "    item.set_rotation(90)"
      ],
      "execution_count": 0,
      "outputs": [
        {
          "output_type": "display_data",
          "data": {
            "image/png": "[encoded data removed]",
            "text/plain": [
              "<matplotlib.figure.Figure at 0x7fafcf1fa588>"
            ]
          },
          "metadata": {
            "tags": []
          }
        }
      ]
    },
    {
      "cell_type": "code",
      "metadata": {
        "id": "HHJdqAoQTa6u",
        "colab_type": "code",
        "outputId": "e9a42848-1bd2-4766-cc31-6eeb3242b1d9",
        "colab": {}
      },
      "source": [
        "plt.figure(figsize=(10,4))\n",
        "sns.countplot(x='What_is_your_current_occupation', hue='Converted', data=lead)"
      ],
      "execution_count": 0,
      "outputs": [
        {
          "output_type": "execute_result",
          "data": {
            "text/plain": [
              "<matplotlib.axes._subplots.AxesSubplot at 0x7fafcf156588>"
            ]
          },
          "metadata": {
            "tags": []
          },
          "execution_count": 44
        },
        {
          "output_type": "display_data",
          "data": {
            "image/png": "[encoded data removed]",
            "text/plain": [
              "<matplotlib.figure.Figure at 0x7fafcf1cf198>"
            ]
          },
          "metadata": {
            "tags": []
          }
        }
      ]
    },
    {
      "cell_type": "code",
      "metadata": {
        "id": "3HwGcdrSTa6x",
        "colab_type": "code",
        "outputId": "98656215-7d2b-4351-887b-41e8edd2ddc1",
        "colab": {}
      },
      "source": [
        "sns.countplot(x='What_matters_most_to_you_in_choosing_a_course', hue='Converted', data=lead)"
      ],
      "execution_count": 0,
      "outputs": [
        {
          "output_type": "execute_result",
          "data": {
            "text/plain": [
              "<matplotlib.axes._subplots.AxesSubplot at 0x7fafcf0d7630>"
            ]
          },
          "metadata": {
            "tags": []
          },
          "execution_count": 45
        },
        {
          "output_type": "display_data",
          "data": {
            "image/png": "[encoded data removed]",
            "text/plain": [
              "<matplotlib.figure.Figure at 0x7fafd1472ef0>"
            ]
          },
          "metadata": {
            "tags": []
          }
        }
      ]
    },
    {
      "cell_type": "code",
      "metadata": {
        "id": "2X3gNitDTa64",
        "colab_type": "code",
        "outputId": "fe1489e6-f116-487b-e03c-e60adef5ec38",
        "colab": {}
      },
      "source": [
        "sns.countplot(x='A_free_copy_of_Mastering_The_Interview', hue='Converted', data=lead)"
      ],
      "execution_count": 0,
      "outputs": [
        {
          "output_type": "execute_result",
          "data": {
            "text/plain": [
              "<matplotlib.axes._subplots.AxesSubplot at 0x7fafcf038a58>"
            ]
          },
          "metadata": {
            "tags": []
          },
          "execution_count": 46
        },
        {
          "output_type": "display_data",
          "data": {
            "image/png": "[encoded data removed]",
            "text/plain": [
              "<matplotlib.figure.Figure at 0x7fafcf00b048>"
            ]
          },
          "metadata": {
            "tags": []
          }
        }
      ]
    },
    {
      "cell_type": "code",
      "metadata": {
        "id": "kf-k0LLiTa68",
        "colab_type": "code",
        "outputId": "65fd7c2c-090a-451f-b03b-94d30ac82157",
        "colab": {}
      },
      "source": [
        "lead.info()"
      ],
      "execution_count": 0,
      "outputs": [
        {
          "output_type": "stream",
          "text": [
            "<class 'pandas.core.frame.DataFrame'>\n",
            "Int64Index: 8927 entries, 0 to 9239\n",
            "Data columns (total 14 columns):\n",
            "Prospect_ID                                      8927 non-null object\n",
            "Lead_Origin                                      8927 non-null object\n",
            "Lead_Source                                      8895 non-null object\n",
            "Do_Not_Email                                     8927 non-null object\n",
            "Converted                                        8927 non-null int64\n",
            "TotalVisits                                      8818 non-null float64\n",
            "Total_Time_Spent_on_Website                      8927 non-null int64\n",
            "Page_Views_Per_Visit                             8818 non-null float64\n",
            "Country                                          8927 non-null object\n",
            "Specialization                                   8927 non-null object\n",
            "What_is_your_current_occupation                  8927 non-null object\n",
            "What_matters_most_to_you_in_choosing_a_course    8927 non-null object\n",
            "A_free_copy_of_Mastering_The_Interview           8927 non-null object\n",
            "Last_Notable_Activity                            8927 non-null object\n",
            "dtypes: float64(2), int64(2), object(10)\n",
            "memory usage: 1.3+ MB\n"
          ],
          "name": "stdout"
        }
      ]
    },
    {
      "cell_type": "markdown",
      "metadata": {
        "id": "Sl9kX3zUTa6_",
        "colab_type": "text"
      },
      "source": [
        "### Numeric variables "
      ]
    },
    {
      "cell_type": "code",
      "metadata": {
        "id": "QSVKxKZrTa7A",
        "colab_type": "code",
        "outputId": "3dd9d8c4-dfe5-42eb-de7b-db6407640953",
        "colab": {}
      },
      "source": [
        "numeric=lead[['TotalVisits','Total_Time_Spent_on_Website','Page_Views_Per_Visit']]\n",
        "numeric.describe(percentiles=[0.25,0.5,0.75,0.9,0.99])"
      ],
      "execution_count": 0,
      "outputs": [
        {
          "output_type": "execute_result",
          "data": {
            "text/html": [
              "<div>\n",
              "<style scoped>\n",
              "    .dataframe tbody tr th:only-of-type {\n",
              "        vertical-align: middle;\n",
              "    }\n",
              "\n",
              "    .dataframe tbody tr th {\n",
              "        vertical-align: top;\n",
              "    }\n",
              "\n",
              "    .dataframe thead th {\n",
              "        text-align: right;\n",
              "    }\n",
              "</style>\n",
              "<table border=\"1\" class=\"dataframe\">\n",
              "  <thead>\n",
              "    <tr style=\"text-align: right;\">\n",
              "      <th></th>\n",
              "      <th>TotalVisits</th>\n",
              "      <th>Total_Time_Spent_on_Website</th>\n",
              "      <th>Page_Views_Per_Visit</th>\n",
              "    </tr>\n",
              "  </thead>\n",
              "  <tbody>\n",
              "    <tr>\n",
              "      <th>count</th>\n",
              "      <td>8818.000000</td>\n",
              "      <td>8927.000000</td>\n",
              "      <td>8818.000000</td>\n",
              "    </tr>\n",
              "    <tr>\n",
              "      <th>mean</th>\n",
              "      <td>3.440916</td>\n",
              "      <td>487.505769</td>\n",
              "      <td>2.359695</td>\n",
              "    </tr>\n",
              "    <tr>\n",
              "      <th>std</th>\n",
              "      <td>4.886250</td>\n",
              "      <td>548.219655</td>\n",
              "      <td>2.159544</td>\n",
              "    </tr>\n",
              "    <tr>\n",
              "      <th>min</th>\n",
              "      <td>0.000000</td>\n",
              "      <td>0.000000</td>\n",
              "      <td>0.000000</td>\n",
              "    </tr>\n",
              "    <tr>\n",
              "      <th>25%</th>\n",
              "      <td>1.000000</td>\n",
              "      <td>11.000000</td>\n",
              "      <td>1.000000</td>\n",
              "    </tr>\n",
              "    <tr>\n",
              "      <th>50%</th>\n",
              "      <td>3.000000</td>\n",
              "      <td>247.000000</td>\n",
              "      <td>2.000000</td>\n",
              "    </tr>\n",
              "    <tr>\n",
              "      <th>75%</th>\n",
              "      <td>5.000000</td>\n",
              "      <td>938.000000</td>\n",
              "      <td>3.000000</td>\n",
              "    </tr>\n",
              "    <tr>\n",
              "      <th>90%</th>\n",
              "      <td>7.000000</td>\n",
              "      <td>1379.000000</td>\n",
              "      <td>5.000000</td>\n",
              "    </tr>\n",
              "    <tr>\n",
              "      <th>99%</th>\n",
              "      <td>17.000000</td>\n",
              "      <td>1840.740000</td>\n",
              "      <td>9.000000</td>\n",
              "    </tr>\n",
              "    <tr>\n",
              "      <th>max</th>\n",
              "      <td>251.000000</td>\n",
              "      <td>2272.000000</td>\n",
              "      <td>55.000000</td>\n",
              "    </tr>\n",
              "  </tbody>\n",
              "</table>\n",
              "</div>"
            ],
            "text/plain": [
              "       TotalVisits  Total_Time_Spent_on_Website  Page_Views_Per_Visit\n",
              "count  8818.000000                  8927.000000           8818.000000\n",
              "mean      3.440916                   487.505769              2.359695\n",
              "std       4.886250                   548.219655              2.159544\n",
              "min       0.000000                     0.000000              0.000000\n",
              "25%       1.000000                    11.000000              1.000000\n",
              "50%       3.000000                   247.000000              2.000000\n",
              "75%       5.000000                   938.000000              3.000000\n",
              "90%       7.000000                  1379.000000              5.000000\n",
              "99%      17.000000                  1840.740000              9.000000\n",
              "max     251.000000                  2272.000000             55.000000"
            ]
          },
          "metadata": {
            "tags": []
          },
          "execution_count": 48
        }
      ]
    },
    {
      "cell_type": "code",
      "metadata": {
        "id": "KPQVuw49Ta7D",
        "colab_type": "code",
        "outputId": "d3557607-f578-4c58-adee-d14696189305",
        "colab": {}
      },
      "source": [
        "\n",
        "plt.figure(figsize=(15,5))\n",
        "plt.subplot(1,3,1)\n",
        "sns.boxplot(y='Page_Views_Per_Visit', data=numeric)\n",
        "plt.subplot(1,3,2)\n",
        "sns.boxplot(y='Total_Time_Spent_on_Website', data=numeric)\n",
        "plt.subplot(1,3,3)\n",
        "sns.boxplot(y='TotalVisits', data=numeric)\n",
        "plt.show()"
      ],
      "execution_count": 0,
      "outputs": [
        {
          "output_type": "display_data",
          "data": {
            "image/png": "[encoded data removed]",
            "text/plain": [
              "<matplotlib.figure.Figure at 0x7fafcef4d8d0>"
            ]
          },
          "metadata": {
            "tags": []
          }
        }
      ]
    },
    {
      "cell_type": "markdown",
      "metadata": {
        "id": "x1E2Ein9Ta7H",
        "colab_type": "text"
      },
      "source": [
        "As you can see we dont see a pretty decent distribution across the percentiles. \n",
        "Infact we can see outliers in case of totalvisits and Page_views_per_visit.\n",
        "Also the Total_Time_Spent_on_Website varies quite a lot making it not that good a predictor."
      ]
    },
    {
      "cell_type": "code",
      "metadata": {
        "id": "70Csk87wTa7J",
        "colab_type": "code",
        "outputId": "79a63d63-c0ef-489c-f985-1527503f4d01",
        "colab": {}
      },
      "source": [
        "##checking the nulls \n",
        "print(((lead.isnull().sum()/len(lead))*100).sort_values(ascending=False),'%')"
      ],
      "execution_count": 0,
      "outputs": [
        {
          "output_type": "stream",
          "text": [
            "Page_Views_Per_Visit                             1.221015\n",
            "TotalVisits                                      1.221015\n",
            "Lead_Source                                      0.358463\n",
            "Last_Notable_Activity                            0.000000\n",
            "A_free_copy_of_Mastering_The_Interview           0.000000\n",
            "What_matters_most_to_you_in_choosing_a_course    0.000000\n",
            "What_is_your_current_occupation                  0.000000\n",
            "Specialization                                   0.000000\n",
            "Country                                          0.000000\n",
            "Total_Time_Spent_on_Website                      0.000000\n",
            "Converted                                        0.000000\n",
            "Do_Not_Email                                     0.000000\n",
            "Lead_Origin                                      0.000000\n",
            "Prospect_ID                                      0.000000\n",
            "dtype: float64 %\n"
          ],
          "name": "stdout"
        }
      ]
    },
    {
      "cell_type": "code",
      "metadata": {
        "id": "M5I5hA1UTa7U",
        "colab_type": "code",
        "colab": {}
      },
      "source": [
        "## drop the nulls\n",
        "lead.dropna(axis=0, inplace=True)"
      ],
      "execution_count": 0,
      "outputs": []
    },
    {
      "cell_type": "code",
      "metadata": {
        "id": "5BalsnHPTa7b",
        "colab_type": "code",
        "outputId": "80f30d88-59c4-407e-f4f8-46b363728937",
        "colab": {}
      },
      "source": [
        "print(lead.shape)\n",
        "print(lead.info())"
      ],
      "execution_count": 0,
      "outputs": [
        {
          "output_type": "stream",
          "text": [
            "(8792, 14)\n",
            "<class 'pandas.core.frame.DataFrame'>\n",
            "Int64Index: 8792 entries, 0 to 9239\n",
            "Data columns (total 14 columns):\n",
            "Prospect_ID                                      8792 non-null object\n",
            "Lead_Origin                                      8792 non-null object\n",
            "Lead_Source                                      8792 non-null object\n",
            "Do_Not_Email                                     8792 non-null object\n",
            "Converted                                        8792 non-null int64\n",
            "TotalVisits                                      8792 non-null float64\n",
            "Total_Time_Spent_on_Website                      8792 non-null int64\n",
            "Page_Views_Per_Visit                             8792 non-null float64\n",
            "Country                                          8792 non-null object\n",
            "Specialization                                   8792 non-null object\n",
            "What_is_your_current_occupation                  8792 non-null object\n",
            "What_matters_most_to_you_in_choosing_a_course    8792 non-null object\n",
            "A_free_copy_of_Mastering_The_Interview           8792 non-null object\n",
            "Last_Notable_Activity                            8792 non-null object\n",
            "dtypes: float64(2), int64(2), object(10)\n",
            "memory usage: 1.0+ MB\n",
            "None\n"
          ],
          "name": "stdout"
        }
      ]
    },
    {
      "cell_type": "markdown",
      "metadata": {
        "id": "_67qfMcCTa7f",
        "colab_type": "text"
      },
      "source": [
        "## Normalising the Numerical Variables"
      ]
    },
    {
      "cell_type": "code",
      "metadata": {
        "id": "78QbfVk7Ta7h",
        "colab_type": "code",
        "colab": {}
      },
      "source": [
        "cnames = [\"TotalVisits\",\"Total_Time_Spent_on_Website\",\"Page_Views_Per_Visit\"]"
      ],
      "execution_count": 0,
      "outputs": []
    },
    {
      "cell_type": "markdown",
      "metadata": {
        "id": "hB87Q0RlTa7u",
        "colab_type": "text"
      },
      "source": [
        "We perform minmax normalization "
      ]
    },
    {
      "cell_type": "code",
      "metadata": {
        "id": "85n4tgbkTa7u",
        "colab_type": "code",
        "outputId": "60920803-da3e-4bd1-c786-8433a34b4928",
        "colab": {}
      },
      "source": [
        "#normalization\n",
        "for i in cnames:\n",
        "    print(i)\n",
        "    lead[i] = (lead[i]-min(lead[i]))/(max(lead[i])-min(lead[i]))"
      ],
      "execution_count": 0,
      "outputs": [
        {
          "output_type": "stream",
          "text": [
            "TotalVisits\n",
            "Total_Time_Spent_on_Website\n",
            "Page_Views_Per_Visit\n"
          ],
          "name": "stdout"
        }
      ]
    },
    {
      "cell_type": "markdown",
      "metadata": {
        "id": "btzak068Ta7z",
        "colab_type": "text"
      },
      "source": [
        "## Creating Dummy Variables"
      ]
    },
    {
      "cell_type": "markdown",
      "metadata": {
        "id": "QmzLXV12Ta7z",
        "colab_type": "text"
      },
      "source": [
        "We drop those variables for which either a category is created or it is \"Not Declared\""
      ]
    },
    {
      "cell_type": "code",
      "metadata": {
        "id": "E_smm-_zTa70",
        "colab_type": "code",
        "colab": {}
      },
      "source": [
        "\n",
        "lead['Lead_Origin'].value_counts()\n",
        "origin=pd.get_dummies(lead['Lead_Origin'],prefix='orgn')\n",
        "origin=origin.drop('orgn_Lead Add Form', axis=1)\n",
        "\n",
        "lead['Lead_Source'].value_counts()\n",
        "source=pd.get_dummies(lead['Lead_Source'],prefix='src')\n",
        "source=source.drop('src_others', axis=1)\n",
        "\n",
        "lead['Do_Not_Email'].value_counts()\n",
        "DNE=pd.get_dummies(lead['Do_Not_Email'],drop_first=True, prefix='dne')\n",
        "\n",
        "lead['Specialization'].value_counts()\n",
        "spcial=pd.get_dummies(lead['Specialization'],prefix='spcl')\n",
        "spcial=spcial.drop('spcl_not declared', axis=1)\n",
        "\n",
        "lead['What_is_your_current_occupation'].value_counts()\n",
        "occupation=pd.get_dummies(lead['What_is_your_current_occupation'],prefix='occ')\n",
        "occupation=occupation.drop('occ_not declared', axis=1)\n",
        "\n",
        "lead['What_matters_most_to_you_in_choosing_a_course'].value_counts()\n",
        "what=pd.get_dummies(lead['What_matters_most_to_you_in_choosing_a_course'],prefix='what')\n",
        "what=what.drop('what_not declared', axis=1)\n",
        "\n",
        "lead['A_free_copy_of_Mastering_The_Interview'].value_counts()\n",
        "intrvw=pd.get_dummies(lead['A_free_copy_of_Mastering_The_Interview'],prefix='intrvw',drop_first=True)\n",
        "\n",
        "lead['Last_Notable_Activity'].value_counts()\n",
        "last_note=pd.get_dummies(lead['Last_Notable_Activity'],prefix='last_note')\n",
        "last_note=last_note.drop('last_note_Email Link Clicked', axis=1)\n",
        "\n",
        "lead['Country'].value_counts()\n",
        "cntry=pd.get_dummies(lead['Country'],prefix='country')\n",
        "cntry=cntry.drop('country_Not Declared', axis=1)"
      ],
      "execution_count": 0,
      "outputs": []
    },
    {
      "cell_type": "markdown",
      "metadata": {
        "id": "O-Va4zNPTa76",
        "colab_type": "text"
      },
      "source": [
        "Combining the categorical variables (after dummy variables have been created) with numerical variables and response variable( \"Converted\")."
      ]
    },
    {
      "cell_type": "code",
      "metadata": {
        "id": "yO6jX2opTa77",
        "colab_type": "code",
        "outputId": "582f3de9-c3c3-4ddd-862f-1a06f74ef4fe",
        "colab": {}
      },
      "source": [
        "leadn=lead.drop(columns=['Prospect_ID'], axis=1)\n",
        "leadncol=['Converted','TotalVisits','Total_Time_Spent_on_Website','Page_Views_Per_Visit']\n",
        "final=pd.concat([leadn[leadncol],origin,source,DNE,spcial,occupation,what,intrvw,last_note,cntry], axis=1)\n",
        "final.shape"
      ],
      "execution_count": 0,
      "outputs": [
        {
          "output_type": "execute_result",
          "data": {
            "text/plain": [
              "(8792, 41)"
            ]
          },
          "metadata": {
            "tags": []
          },
          "execution_count": 56
        }
      ]
    },
    {
      "cell_type": "code",
      "metadata": {
        "id": "Oe76nu7KTa7_",
        "colab_type": "code",
        "outputId": "bf47c9c4-ca3d-4416-c54d-d0234c86d5c9",
        "colab": {}
      },
      "source": [
        "final.head()"
      ],
      "execution_count": 0,
      "outputs": [
        {
          "output_type": "execute_result",
          "data": {
            "text/html": [
              "<div>\n",
              "<style scoped>\n",
              "    .dataframe tbody tr th:only-of-type {\n",
              "        vertical-align: middle;\n",
              "    }\n",
              "\n",
              "    .dataframe tbody tr th {\n",
              "        vertical-align: top;\n",
              "    }\n",
              "\n",
              "    .dataframe thead th {\n",
              "        text-align: right;\n",
              "    }\n",
              "</style>\n",
              "<table border=\"1\" class=\"dataframe\">\n",
              "  <thead>\n",
              "    <tr style=\"text-align: right;\">\n",
              "      <th></th>\n",
              "      <th>Converted</th>\n",
              "      <th>TotalVisits</th>\n",
              "      <th>Total_Time_Spent_on_Website</th>\n",
              "      <th>Page_Views_Per_Visit</th>\n",
              "      <th>orgn_API</th>\n",
              "      <th>orgn_Landing Page Submission</th>\n",
              "      <th>src_Direct Traffic</th>\n",
              "      <th>src_Google</th>\n",
              "      <th>src_Olark Chat</th>\n",
              "      <th>src_Organic Search</th>\n",
              "      <th>...</th>\n",
              "      <th>what_Better Career Prospects</th>\n",
              "      <th>intrvw_Yes</th>\n",
              "      <th>last_note_Email Marked Spam</th>\n",
              "      <th>last_note_Email Opened</th>\n",
              "      <th>last_note_Modified</th>\n",
              "      <th>last_note_Olark Chat Conversation</th>\n",
              "      <th>last_note_Page Visited on Website</th>\n",
              "      <th>last_note_SMS Sent</th>\n",
              "      <th>country_India</th>\n",
              "      <th>country_Outside India</th>\n",
              "    </tr>\n",
              "  </thead>\n",
              "  <tbody>\n",
              "    <tr>\n",
              "      <th>0</th>\n",
              "      <td>0</td>\n",
              "      <td>0.000000</td>\n",
              "      <td>0.000000</td>\n",
              "      <td>0.000000</td>\n",
              "      <td>1</td>\n",
              "      <td>0</td>\n",
              "      <td>0</td>\n",
              "      <td>0</td>\n",
              "      <td>1</td>\n",
              "      <td>0</td>\n",
              "      <td>...</td>\n",
              "      <td>1</td>\n",
              "      <td>0</td>\n",
              "      <td>0</td>\n",
              "      <td>0</td>\n",
              "      <td>1</td>\n",
              "      <td>0</td>\n",
              "      <td>0</td>\n",
              "      <td>0</td>\n",
              "      <td>0</td>\n",
              "      <td>0</td>\n",
              "    </tr>\n",
              "    <tr>\n",
              "      <th>1</th>\n",
              "      <td>0</td>\n",
              "      <td>0.019920</td>\n",
              "      <td>0.296655</td>\n",
              "      <td>0.045455</td>\n",
              "      <td>1</td>\n",
              "      <td>0</td>\n",
              "      <td>0</td>\n",
              "      <td>0</td>\n",
              "      <td>0</td>\n",
              "      <td>1</td>\n",
              "      <td>...</td>\n",
              "      <td>1</td>\n",
              "      <td>0</td>\n",
              "      <td>0</td>\n",
              "      <td>1</td>\n",
              "      <td>0</td>\n",
              "      <td>0</td>\n",
              "      <td>0</td>\n",
              "      <td>0</td>\n",
              "      <td>1</td>\n",
              "      <td>0</td>\n",
              "    </tr>\n",
              "    <tr>\n",
              "      <th>2</th>\n",
              "      <td>1</td>\n",
              "      <td>0.007968</td>\n",
              "      <td>0.674296</td>\n",
              "      <td>0.036364</td>\n",
              "      <td>0</td>\n",
              "      <td>1</td>\n",
              "      <td>1</td>\n",
              "      <td>0</td>\n",
              "      <td>0</td>\n",
              "      <td>0</td>\n",
              "      <td>...</td>\n",
              "      <td>1</td>\n",
              "      <td>1</td>\n",
              "      <td>0</td>\n",
              "      <td>1</td>\n",
              "      <td>0</td>\n",
              "      <td>0</td>\n",
              "      <td>0</td>\n",
              "      <td>0</td>\n",
              "      <td>1</td>\n",
              "      <td>0</td>\n",
              "    </tr>\n",
              "    <tr>\n",
              "      <th>3</th>\n",
              "      <td>0</td>\n",
              "      <td>0.003984</td>\n",
              "      <td>0.134243</td>\n",
              "      <td>0.018182</td>\n",
              "      <td>0</td>\n",
              "      <td>1</td>\n",
              "      <td>1</td>\n",
              "      <td>0</td>\n",
              "      <td>0</td>\n",
              "      <td>0</td>\n",
              "      <td>...</td>\n",
              "      <td>1</td>\n",
              "      <td>0</td>\n",
              "      <td>0</td>\n",
              "      <td>0</td>\n",
              "      <td>1</td>\n",
              "      <td>0</td>\n",
              "      <td>0</td>\n",
              "      <td>0</td>\n",
              "      <td>1</td>\n",
              "      <td>0</td>\n",
              "    </tr>\n",
              "    <tr>\n",
              "      <th>4</th>\n",
              "      <td>1</td>\n",
              "      <td>0.007968</td>\n",
              "      <td>0.628521</td>\n",
              "      <td>0.018182</td>\n",
              "      <td>0</td>\n",
              "      <td>1</td>\n",
              "      <td>0</td>\n",
              "      <td>1</td>\n",
              "      <td>0</td>\n",
              "      <td>0</td>\n",
              "      <td>...</td>\n",
              "      <td>1</td>\n",
              "      <td>0</td>\n",
              "      <td>0</td>\n",
              "      <td>0</td>\n",
              "      <td>1</td>\n",
              "      <td>0</td>\n",
              "      <td>0</td>\n",
              "      <td>0</td>\n",
              "      <td>1</td>\n",
              "      <td>0</td>\n",
              "    </tr>\n",
              "  </tbody>\n",
              "</table>\n",
              "<p>5 rows × 41 columns</p>\n",
              "</div>"
            ],
            "text/plain": [
              "   Converted  TotalVisits  Total_Time_Spent_on_Website  Page_Views_Per_Visit  \\\n",
              "0          0     0.000000                     0.000000              0.000000   \n",
              "1          0     0.019920                     0.296655              0.045455   \n",
              "2          1     0.007968                     0.674296              0.036364   \n",
              "3          0     0.003984                     0.134243              0.018182   \n",
              "4          1     0.007968                     0.628521              0.018182   \n",
              "\n",
              "   orgn_API  orgn_Landing Page Submission  src_Direct Traffic  src_Google  \\\n",
              "0         1                             0                   0           0   \n",
              "1         1                             0                   0           0   \n",
              "2         0                             1                   1           0   \n",
              "3         0                             1                   1           0   \n",
              "4         0                             1                   0           1   \n",
              "\n",
              "   src_Olark Chat  src_Organic Search          ...            \\\n",
              "0               1                   0          ...             \n",
              "1               0                   1          ...             \n",
              "2               0                   0          ...             \n",
              "3               0                   0          ...             \n",
              "4               0                   0          ...             \n",
              "\n",
              "   what_Better Career Prospects  intrvw_Yes  last_note_Email Marked Spam  \\\n",
              "0                             1           0                            0   \n",
              "1                             1           0                            0   \n",
              "2                             1           1                            0   \n",
              "3                             1           0                            0   \n",
              "4                             1           0                            0   \n",
              "\n",
              "   last_note_Email Opened  last_note_Modified  \\\n",
              "0                       0                   1   \n",
              "1                       1                   0   \n",
              "2                       1                   0   \n",
              "3                       0                   1   \n",
              "4                       0                   1   \n",
              "\n",
              "   last_note_Olark Chat Conversation  last_note_Page Visited on Website  \\\n",
              "0                                  0                                  0   \n",
              "1                                  0                                  0   \n",
              "2                                  0                                  0   \n",
              "3                                  0                                  0   \n",
              "4                                  0                                  0   \n",
              "\n",
              "   last_note_SMS Sent  country_India  country_Outside India  \n",
              "0                   0              0                      0  \n",
              "1                   0              1                      0  \n",
              "2                   0              1                      0  \n",
              "3                   0              1                      0  \n",
              "4                   0              1                      0  \n",
              "\n",
              "[5 rows x 41 columns]"
            ]
          },
          "metadata": {
            "tags": []
          },
          "execution_count": 57
        }
      ]
    },
    {
      "cell_type": "markdown",
      "metadata": {
        "id": "7i47ZcLwTa8D",
        "colab_type": "text"
      },
      "source": [
        "We finally are left with total of 42 variables after data cleaning and eda."
      ]
    },
    {
      "cell_type": "markdown",
      "metadata": {
        "id": "nT2R2iEBTa8E",
        "colab_type": "text"
      },
      "source": [
        "## Train and Test Split"
      ]
    },
    {
      "cell_type": "markdown",
      "metadata": {
        "id": "8Lzq_hqdTa8F",
        "colab_type": "text"
      },
      "source": [
        "Keeping a train-test split ratio of 0.7"
      ]
    },
    {
      "cell_type": "code",
      "metadata": {
        "id": "RN2Lyq-3Ta8H",
        "colab_type": "code",
        "colab": {}
      },
      "source": [
        "from sklearn.model_selection import train_test_split\n",
        "x=final.drop('Converted', axis=1)\n",
        "y=final['Converted']"
      ],
      "execution_count": 0,
      "outputs": []
    },
    {
      "cell_type": "code",
      "metadata": {
        "id": "SXoJL-SPTa8K",
        "colab_type": "code",
        "colab": {}
      },
      "source": [
        "x_train, x_test, y_train, y_test=train_test_split(x,y, train_size=0.7, test_size=0.3, random_state=1000)"
      ],
      "execution_count": 0,
      "outputs": []
    },
    {
      "cell_type": "markdown",
      "metadata": {
        "id": "GM-W0nIKTa8O",
        "colab_type": "text"
      },
      "source": [
        "Checking correlation "
      ]
    },
    {
      "cell_type": "code",
      "metadata": {
        "id": "apDNqWi6Ta8O",
        "colab_type": "code",
        "outputId": "b55ae40d-6ee5-4991-c4f2-e24e47ac36db",
        "colab": {}
      },
      "source": [
        "\n",
        "plt.figure(figsize=(30,30))\n",
        "sns.heatmap(x_train.corr())"
      ],
      "execution_count": 0,
      "outputs": [
        {
          "output_type": "execute_result",
          "data": {
            "text/plain": [
              "<matplotlib.axes._subplots.AxesSubplot at 0x7fafcdbc88d0>"
            ]
          },
          "metadata": {
            "tags": []
          },
          "execution_count": 60
        },
        {
          "output_type": "display_data",
          "data": {
            "image/png": "[encoded data removed]",
            "text/plain": [
              "<matplotlib.figure.Figure at 0x7fafce479668>"
            ]
          },
          "metadata": {
            "tags": []
          }
        }
      ]
    },
    {
      "cell_type": "markdown",
      "metadata": {
        "id": "o-Ni80_STa8S",
        "colab_type": "text"
      },
      "source": [
        "From the correlation plot one can see, some variables are highly correlated such as last_note_email_marked_spam with all other variables.\n",
        "Also very high negative correlation is evident in country india and src_Olark chat possibly because of Olark chat not being used in India.\n",
        "Other variable pairs inlcudes : org_api and org_landing page submission."
      ]
    },
    {
      "cell_type": "markdown",
      "metadata": {
        "id": "Jw6ENFQgTa8T",
        "colab_type": "text"
      },
      "source": [
        "## Building Model Logistic Regression"
      ]
    },
    {
      "cell_type": "markdown",
      "metadata": {
        "id": "OJMJSYbETa8U",
        "colab_type": "text"
      },
      "source": [
        "As there are total 42 variables, its not feasible to check each one.\n",
        "So RFE is chosen to get the significant and important variables."
      ]
    },
    {
      "cell_type": "markdown",
      "metadata": {
        "id": "O5DDfmmITa8V",
        "colab_type": "text"
      },
      "source": [
        "### Doing RFE to get significant variables only"
      ]
    },
    {
      "cell_type": "code",
      "metadata": {
        "id": "llCbH8rlTa8W",
        "colab_type": "code",
        "outputId": "3a5a6368-3124-4435-cb4e-297137605676",
        "colab": {}
      },
      "source": [
        "\n",
        "from sklearn.linear_model import LogisticRegression\n",
        "logreg = LogisticRegression()\n",
        "from sklearn.feature_selection import RFE\n",
        "rfe = RFE(logreg, 30)   # running RFE with 30 variables as output\n",
        "rfe = rfe.fit(x,y)\n",
        "print(rfe.support_)           # Printing the boolean results\n",
        "print(rfe.ranking_)  "
      ],
      "execution_count": 0,
      "outputs": [
        {
          "output_type": "stream",
          "text": [
            "[ True  True  True  True  True False False False False  True  True  True\n",
            "  True  True  True  True False  True  True  True  True  True  True False\n",
            "  True  True  True False  True  True  True False  True False  True  True\n",
            " False  True  True  True]\n",
            "[ 1  1  1  1  1  4  8  9  7  1  1  1  1  1  1  1 10  1  1  1  1  1  1  3\n",
            "  1  1  1  2  1  1  1 11  1  5  1  1  6  1  1  1]\n"
          ],
          "name": "stdout"
        }
      ]
    },
    {
      "cell_type": "code",
      "metadata": {
        "id": "rGNJbU6iTa8a",
        "colab_type": "code",
        "outputId": "930ab7e8-0cc7-475f-f23a-ade79a20ba13",
        "colab": {}
      },
      "source": [
        "##top 30 variables chosen by RFE analysis\n",
        "df=pd.DataFrame(list(x))\n",
        "dfs=pd.DataFrame(rfe.support_)\n",
        "dfs.rename(columns={0:'sup'}, inplace=True)\n",
        "dffs=pd.concat([df,dfs], axis=1)\n",
        "colnm=list(dffs[dffs['sup']==True][0])\n",
        "colnm"
      ],
      "execution_count": 0,
      "outputs": [
        {
          "output_type": "execute_result",
          "data": {
            "text/plain": [
              "['TotalVisits',\n",
              " 'Total_Time_Spent_on_Website',\n",
              " 'Page_Views_Per_Visit',\n",
              " 'orgn_API',\n",
              " 'orgn_Landing Page Submission',\n",
              " 'dne_Yes',\n",
              " 'spcl_Banking, Investment And Insurance',\n",
              " 'spcl_Business Administration',\n",
              " 'spcl_E-Business',\n",
              " 'spcl_E-COMMERCE',\n",
              " 'spcl_Finance Management',\n",
              " 'spcl_Healthcare Management',\n",
              " 'spcl_Human Resource Management',\n",
              " 'spcl_IT Projects Management',\n",
              " 'spcl_International Business',\n",
              " 'spcl_Marketing Management',\n",
              " 'spcl_Media and Advertising',\n",
              " 'spcl_Operations Management',\n",
              " 'spcl_Rural and Agribusiness',\n",
              " 'spcl_Supply Chain Management',\n",
              " 'spcl_Travel and Tourism',\n",
              " 'occ_Unemployed',\n",
              " 'occ_Working Professional',\n",
              " 'what_Better Career Prospects',\n",
              " 'last_note_Email Marked Spam',\n",
              " 'last_note_Modified',\n",
              " 'last_note_Olark Chat Conversation',\n",
              " 'last_note_SMS Sent',\n",
              " 'country_India',\n",
              " 'country_Outside India']"
            ]
          },
          "metadata": {
            "tags": []
          },
          "execution_count": 63
        }
      ]
    },
    {
      "cell_type": "code",
      "metadata": {
        "id": "Zl3exbjGTa8f",
        "colab_type": "code",
        "outputId": "c7eeb894-27b9-487f-bae0-1b48ca517918",
        "colab": {}
      },
      "source": [
        "plt.figure(figsize=(10,6))\n",
        "sns.heatmap(x_train[colnm].corr())"
      ],
      "execution_count": 0,
      "outputs": [
        {
          "output_type": "execute_result",
          "data": {
            "text/plain": [
              "<matplotlib.axes._subplots.AxesSubplot at 0x7fafcf0144e0>"
            ]
          },
          "metadata": {
            "tags": []
          },
          "execution_count": 64
        },
        {
          "output_type": "display_data",
          "data": {
            "image/png": "[encoded data removed]",
            "text/plain": [
              "<matplotlib.figure.Figure at 0x7fafcdb51ef0>"
            ]
          },
          "metadata": {
            "tags": []
          }
        }
      ]
    },
    {
      "cell_type": "markdown",
      "metadata": {
        "id": "ViUXmlb5Ta8j",
        "colab_type": "text"
      },
      "source": [
        "### Building model with these 30 variables and taking non-significant varibles out of the model one by one "
      ]
    },
    {
      "cell_type": "code",
      "metadata": {
        "id": "ZxOvHFhvTa8k",
        "colab_type": "code",
        "colab": {}
      },
      "source": [
        "colnm = ['TotalVisits', 'Total_Time_Spent_on_Website', 'Page_Views_Per_Visit','orgn_API', 'orgn_Landing Page Submission',\n",
        "         'dne_Yes', 'spcl_Banking, Investment And Insurance', 'spcl_Business Administration', 'spcl_E-Business',\n",
        "         'spcl_E-COMMERCE','spcl_Finance Management', 'spcl_Healthcare Management', 'spcl_Human Resource Management', \n",
        "         'spcl_IT Projects Management', 'spcl_International Business','spcl_Marketing Management', 'spcl_Media and Advertising',\n",
        "         'spcl_Operations Management', 'spcl_Rural and Agribusiness','spcl_Supply Chain Management', 'spcl_Travel and Tourism',\n",
        "         'occ_Student', 'occ_Unemployed', 'occ_Working Professional', 'what_Working Professional', 'last_note_Modified', \n",
        "         'last_note_Olark Chat Conversation', 'last_note_SMS Sent', 'country_India', 'country_Outside India']\n",
        "\n",
        "import statsmodels.api as sm\n",
        "logm1=sm.GLM(y_train,sm.add_constant(x_train[colnm]), family=sm.families.Binomial())\n",
        "logm1.fit().summary()"
      ],
      "execution_count": 0,
      "outputs": []
    },
    {
      "cell_type": "code",
      "metadata": {
        "id": "8LitzCNATa8m",
        "colab_type": "code",
        "colab": {}
      },
      "source": [
        "colnm = ['TotalVisits', 'Total_Time_Spent_on_Website', 'Page_Views_Per_Visit','orgn_API', 'orgn_Landing Page Submission',\n",
        "         'dne_Yes', 'spcl_Banking, Investment And Insurance', 'spcl_Business Administration',\n",
        "         'spcl_E-COMMERCE','spcl_Finance Management', 'spcl_Healthcare Management', 'spcl_Human Resource Management', \n",
        "         'spcl_IT Projects Management', 'spcl_International Business','spcl_Marketing Management', 'spcl_Media and Advertising',\n",
        "         'spcl_Operations Management', 'spcl_Rural and Agribusiness','spcl_Supply Chain Management', 'spcl_Travel and Tourism',\n",
        "         'occ_Student', 'occ_Unemployed', 'occ_Working Professional', 'what_Working Professional', 'last_note_Modified', \n",
        "         'last_note_Olark Chat Conversation', 'last_note_SMS Sent', 'country_India', 'country_Outside India']\n",
        "\n",
        "#dropping non significant varibles and rebuilding model\n",
        "\n",
        "\n",
        "import statsmodels.api as sm\n",
        "logm1=sm.GLM(y_train,sm.add_constant(x_train[colnm]), family=sm.families.Binomial())\n",
        "logm1.fit().summary()"
      ],
      "execution_count": 0,
      "outputs": []
    },
    {
      "cell_type": "code",
      "metadata": {
        "id": "r4y4Vwv5Ta8p",
        "colab_type": "code",
        "colab": {}
      },
      "source": [
        "#VIF values  \n",
        "from statsmodels.stats.outliers_influence import variance_inflation_factor"
      ],
      "execution_count": 0,
      "outputs": []
    },
    {
      "cell_type": "code",
      "metadata": {
        "id": "GOOI4eq1Ta8r",
        "colab_type": "code",
        "colab": {}
      },
      "source": [
        "#dataframe of variables and their VIFs\n",
        "vif = pd.DataFrame()\n",
        "vif['Features'] = x_train[colnm].columns\n",
        "vif['VIF'] = [variance_inflation_factor(x_train[colnm].values, i) for i in range(x_train[colnm].shape[1])]\n",
        "vif['VIF'] = round(vif['VIF'], 2)\n",
        "vif = vif.sort_values(by = \"VIF\", ascending = False)\n",
        "vif"
      ],
      "execution_count": 0,
      "outputs": []
    },
    {
      "cell_type": "code",
      "metadata": {
        "id": "tkEcnSfnTa8x",
        "colab_type": "code",
        "colab": {}
      },
      "source": [
        "colnm = ['TotalVisits', 'Total_Time_Spent_on_Website', 'Page_Views_Per_Visit','orgn_API', 'orgn_Landing Page Submission',\n",
        "         'dne_Yes', 'spcl_Banking, Investment And Insurance', 'spcl_Business Administration',\n",
        "         'spcl_E-COMMERCE','spcl_Finance Management', 'spcl_Healthcare Management', 'spcl_Human Resource Management', \n",
        "         'spcl_IT Projects Management', 'spcl_International Business','spcl_Marketing Management', 'spcl_Media and Advertising',\n",
        "         'spcl_Operations Management', 'spcl_Rural and Agribusiness','spcl_Supply Chain Management', 'spcl_Travel and Tourism',\n",
        "         'occ_Student', 'occ_Unemployed', 'occ_Working Professional',  'last_note_Modified', \n",
        "         'last_note_Olark Chat Conversation', 'last_note_SMS Sent', 'country_India', 'country_Outside India']\n",
        "\n",
        "#dropping non significant varibles and rebuilding model\n",
        "\n",
        "import statsmodels.api as sm\n",
        "logm1=sm.GLM(y_train,sm.add_constant(x_train[colnm]), family=sm.families.Binomial())\n",
        "logm1.fit().summary()"
      ],
      "execution_count": 0,
      "outputs": []
    },
    {
      "cell_type": "code",
      "metadata": {
        "id": "vuWWUGOvTa8z",
        "colab_type": "code",
        "colab": {}
      },
      "source": [
        "#dataframe of variables and their VIFs\n",
        "vif = pd.DataFrame()\n",
        "vif['Features'] = x_train[colnm].columns\n",
        "vif['VIF'] = [variance_inflation_factor(x_train[colnm].values, i) for i in range(x_train[colnm].shape[1])]\n",
        "vif['VIF'] = round(vif['VIF'], 2)\n",
        "vif = vif.sort_values(by = \"VIF\", ascending = False)\n",
        "vif"
      ],
      "execution_count": 0,
      "outputs": []
    },
    {
      "cell_type": "code",
      "metadata": {
        "id": "x6xnRryyTa82",
        "colab_type": "code",
        "colab": {}
      },
      "source": [
        "colnm = ['TotalVisits', 'Total_Time_Spent_on_Website', 'Page_Views_Per_Visit','orgn_API', 'orgn_Landing Page Submission',\n",
        "         'dne_Yes', 'spcl_Banking, Investment And Insurance', 'spcl_Business Administration',\n",
        "         'spcl_E-COMMERCE','spcl_Finance Management', 'spcl_Healthcare Management', 'spcl_Human Resource Management', \n",
        "         'spcl_IT Projects Management', 'spcl_International Business','spcl_Marketing Management', 'spcl_Media and Advertising',\n",
        "         'spcl_Operations Management', 'spcl_Rural and Agribusiness','spcl_Supply Chain Management', 'spcl_Travel and Tourism',\n",
        "         'occ_Student', 'occ_Unemployed', 'occ_Working Professional',  'last_note_Modified', \n",
        "         'last_note_Olark Chat Conversation', 'last_note_SMS Sent', 'country_Outside India']\n",
        "\n",
        "#dropping non significant varibles and rebuilding model,\n",
        "\n",
        "import statsmodels.api as sm\n",
        "logm1=sm.GLM(y_train,sm.add_constant(x_train[colnm]), family=sm.families.Binomial())\n",
        "logm1.fit().summary()"
      ],
      "execution_count": 0,
      "outputs": []
    },
    {
      "cell_type": "code",
      "metadata": {
        "id": "y2VwXWZ6Ta84",
        "colab_type": "code",
        "colab": {}
      },
      "source": [
        "#dataframe of variables and their VIFs\n",
        "vif = pd.DataFrame()\n",
        "vif['Features'] = x_train[colnm].columns\n",
        "vif['VIF'] = [variance_inflation_factor(x_train[colnm].values, i) for i in range(x_train[colnm].shape[1])]\n",
        "vif['VIF'] = round(vif['VIF'], 2)\n",
        "vif = vif.sort_values(by = \"VIF\", ascending = False)\n",
        "vif"
      ],
      "execution_count": 0,
      "outputs": []
    },
    {
      "cell_type": "markdown",
      "metadata": {
        "id": "t_S1QFTcTa85",
        "colab_type": "text"
      },
      "source": [
        "## Predicting class for the Test data set"
      ]
    },
    {
      "cell_type": "code",
      "metadata": {
        "id": "Ocl2I3-dTa85",
        "colab_type": "code",
        "colab": {}
      },
      "source": [
        "from sklearn.linear_model import LogisticRegression\n",
        "from sklearn import metrics\n",
        "logm2 = LogisticRegression()\n",
        "logm2.fit(x_train[colnm], y_train)\n",
        "logm2.coef_"
      ],
      "execution_count": 0,
      "outputs": []
    },
    {
      "cell_type": "code",
      "metadata": {
        "id": "9xf4oLOiTa86",
        "colab_type": "code",
        "colab": {}
      },
      "source": [
        "print(x_train[colnm].shape)\n",
        "print(x_test[colnm].shape)"
      ],
      "execution_count": 0,
      "outputs": []
    },
    {
      "cell_type": "code",
      "metadata": {
        "id": "WiuGH7QiTa88",
        "colab_type": "code",
        "colab": {}
      },
      "source": [
        "logm2.predict_proba(x_train[colnm])"
      ],
      "execution_count": 0,
      "outputs": []
    },
    {
      "cell_type": "markdown",
      "metadata": {
        "id": "XIfbpPJCTa89",
        "colab_type": "text"
      },
      "source": [
        "### Assigning Lead Score"
      ]
    },
    {
      "cell_type": "code",
      "metadata": {
        "id": "ktoV-czKTa89",
        "colab_type": "code",
        "colab": {}
      },
      "source": [
        "#assigning lead score between 0 to 100\n",
        "y_predict=logm2.predict_proba(x_test[colnm])\n",
        "y_predict=pd.DataFrame(y_predict)\n",
        "y_predict = y_predict.iloc[:,[1]]\n",
        "y_predict.rename(columns={1:'predicted'}, inplace=True)\n",
        "y_predict.index=y_test.index\n",
        "y_prob=pd.concat([y_test,y_predict], axis=1)\n",
        "y_prob['predicted']=y_prob['predicted'].map(lambda x: 0 if x<0.5 else 1)\n",
        "lead_score=pd.DataFrame(logm2.predict_proba(x_test[colnm]))\n",
        "lead_score=round(100*(lead_score.iloc[:,[1]]),0)\n",
        "lead_score.rename(columns={1:'lead_score'}, inplace=True)\n",
        "lead_score.head()"
      ],
      "execution_count": 0,
      "outputs": []
    },
    {
      "cell_type": "markdown",
      "metadata": {
        "id": "0FyTVMscTa9A",
        "colab_type": "text"
      },
      "source": [
        "## Evaluating the Model"
      ]
    },
    {
      "cell_type": "code",
      "metadata": {
        "id": "X0VNtvN5Ta9B",
        "colab_type": "code",
        "colab": {}
      },
      "source": [
        "#accuracy\n",
        "round(metrics.accuracy_score(y_prob.Converted, y_prob.predicted),2)"
      ],
      "execution_count": 0,
      "outputs": []
    },
    {
      "cell_type": "markdown",
      "metadata": {
        "id": "wDk-oIHxTa9C",
        "colab_type": "text"
      },
      "source": [
        "### ROC Curve"
      ]
    },
    {
      "cell_type": "code",
      "metadata": {
        "id": "hRzffMQoTa9C",
        "colab_type": "code",
        "colab": {}
      },
      "source": [
        "#evaluating model using ROC curve\n",
        "\n",
        "\n",
        "def draw_roc( actual, probs ):\n",
        "    fpr, tpr, thresholds = metrics.roc_curve( actual, probs,\n",
        "                                              drop_intermediate = False )\n",
        "    auc_score = metrics.roc_auc_score( actual, probs )\n",
        "    plt.figure(figsize=(6, 6))\n",
        "    plt.plot( fpr, tpr, label='ROC curve (area = %0.2f)' % auc_score )\n",
        "    plt.plot([0, 1], [0, 1], 'k--')\n",
        "    plt.xlim([0.0, 1.0])\n",
        "    plt.ylim([0.0, 1.05])\n",
        "    plt.xlabel('False Positive Rate or [1 - True Negative Rate]')\n",
        "    plt.ylabel('True Positive Rate')\n",
        "    plt.title('Receiver operating characteristic example')\n",
        "    plt.legend(loc=\"lower right\")\n",
        "    plt.show()\n",
        "\n",
        "    return fpr, tpr, thresholds\n",
        "\n",
        "draw_roc(y_prob.Converted,y_prob.predicted)"
      ],
      "execution_count": 0,
      "outputs": []
    },
    {
      "cell_type": "markdown",
      "metadata": {
        "id": "qFuExMTLTa9E",
        "colab_type": "text"
      },
      "source": [
        "## Error Metrics\n",
        "\n",
        "### Confusion Matrix"
      ]
    },
    {
      "cell_type": "code",
      "metadata": {
        "id": "eGvoftDQTa9E",
        "colab_type": "code",
        "colab": {}
      },
      "source": [
        "confusion = metrics.confusion_matrix( y_prob.Converted, y_prob.predicted )\n",
        "confusion"
      ],
      "execution_count": 0,
      "outputs": []
    },
    {
      "cell_type": "code",
      "metadata": {
        "id": "WyGgKV1VTa9F",
        "colab_type": "code",
        "colab": {}
      },
      "source": [
        "tp= 1421 \n",
        "fn= 223  \n",
        "fp= 287\n",
        "tn= 707"
      ],
      "execution_count": 0,
      "outputs": []
    },
    {
      "cell_type": "code",
      "metadata": {
        "id": "yeQm4GxXTa9K",
        "colab_type": "code",
        "colab": {}
      },
      "source": [
        "print('Accuracy                ---  ', round((tp+tn)*100/(tp+tn+fp+fn),2),'%')\n",
        "print('Specificity             ---  ', round((tn)*100/(tn+fp),2),'%')\n",
        "print('sensitivity/TPR/Recall  ---  ', round((tp)*100/(tp+fn),2),'%')\n",
        "print('FPR                     ---  ', round((fp)*100/(tn+fp),2),'%')\n",
        "print('Precision               ---  ', round((tp)*100/(tp+fp),2),'%')"
      ],
      "execution_count": 0,
      "outputs": []
    },
    {
      "cell_type": "code",
      "metadata": {
        "id": "JIDgcoWYTa9M",
        "colab_type": "code",
        "colab": {}
      },
      "source": [
        ""
      ],
      "execution_count": 0,
      "outputs": []
    }
  ]
}